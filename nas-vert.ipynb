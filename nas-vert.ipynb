{
 "cells": [
  {
   "cell_type": "markdown",
   "metadata": {},
   "source": [
    "# Imports"
   ]
  },
  {
   "cell_type": "code",
   "execution_count": 1,
   "metadata": {},
   "outputs": [
    {
     "data": {
      "text/plain": [
       "' 512.00B  '"
      ]
     },
     "execution_count": 1,
     "metadata": {},
     "output_type": "execute_result"
    }
   ],
   "source": [
    "from bonsai.nas import Bonsai\n",
    "from bonsai.helpers import mem_stats\n",
    "\n",
    "%load_ext autoreload\n",
    "%autoreload 2\n",
    "\n",
    "mem_stats()"
   ]
  },
  {
   "cell_type": "markdown",
   "metadata": {},
   "source": [
    "# Define Hypers"
   ]
  },
  {
   "cell_type": "code",
   "execution_count": 2,
   "metadata": {},
   "outputs": [],
   "source": [
    "hypers = {\n",
    "    'gpu_space':8.5,\n",
    "    'dataset':{'name':'CIFAR10', 'classes':10},\n",
    "    'batch_size':64,\n",
    "    'scale':36,\n",
    "    'nodes':4,\n",
    "    'patterns':[['n','na'], ['r']],\n",
    "    'reduction_target':2,\n",
    "    'lr_schedule': {'lr_max': .025, 'T': 600},\n",
    "    'drop_prob':.3,\n",
    "    'nas_schedule': {'prune_interval':4, 'cycle_len':8},\n",
    "    'prune_rate':{'edge':.01, 'input':.01}\n",
    "}"
   ]
  },
  {
   "cell_type": "markdown",
   "metadata": {},
   "source": [
    "# Run"
   ]
  },
  {
   "cell_type": "code",
   "execution_count": null,
   "metadata": {},
   "outputs": [
    {
     "name": "stdout",
     "output_type": "stream",
     "text": [
      "== Determining compression ratios ==\n",
      "Search Range: 0.14->1.00\n",
      "Comp Ratios:\n",
      "sizes={\n",
      "    1:0.8928571428571428,\n",
      "    2:0.46428571428571425,\n",
      "    3:0.5178571428571428,\n",
      "    4:0.4107142857142857,\n",
      "}\n",
      "start_size=1\n",
      "Effective Scale: 103.50\n",
      "=========================== NETWORK ===========================\n",
      "================= Mindanao Samuelson Riviera ==================\n",
      "                     :     Dim      :    Params    :   Comp   \n",
      "Initializer          :              :     180      :          \n",
      "Cell 0  (Normal)     :   36 x 32    :   167,859    :  100.0%  \n",
      "Cell 1  (Normal)     :   36 x 32    :   167,860    :  100.0%  \n",
      " ↳ Classifier        :              :   368,650    :          \n",
      "===============================================================\n",
      "Total                :              :   704,549    :  100.0%  \n",
      "===============================================================\n",
      "\n",
      "=== 1 Patterns. Target Comp: 0.89, Aim: 0.80\n",
      "=== Training Mindanao Samuelson Riviera ===\n",
      "Starting at 2020-02-22 11:00:10.888694\n",
      "02/22/2020 11:00 AM\n",
      "Init:   24.00MiB\n",
      "0:    3.73GiB\n",
      "1:    7.23GiB\n",
      "GP:    7.23GiB\n",
      "Classifier:    7.23GiB\n",
      "Train Epoch: 0   [12512 /50000  (100%)]\tComp Ratio: [E: 0.954, I: 1.000], Loss Comp: [C: 1.825, E: 0.004, I: 0.01], Per Epoch: 3m,51s , Alloc: 7.26GiB, Data T: 7.931 , Op T: 445.818\n",
      "Train Corrects: Top-1: 32.12%, Comp: 0.95, 1.00 7m,34s\n",
      "Train Loss Components: C: 1.825, E: 0.004, I: 0.01\n",
      "Soft Comp: 0.954, Hard Comp: 1.000\n",
      "Last Tower Test  Corrects: Top-1: 47.55%, 19.30s\n",
      "\n",
      "\u001b[31mAdjusting lrs to [0.009999931461237134]\u001b[0m\n",
      "02/22/2020 11:08 AM\n",
      "Train Epoch: 1   [12512 /50000  (100%)]\tComp Ratio: [E: 0.940, I: 1.000], Loss Comp: [C: 1.583, E: 0.004, I: 0.01], Per Epoch: 3m,50s , Alloc: 7.26GiB, Data T: 7.911 , Op T: 445.741\n",
      "Train Corrects: Top-1: 39.40%, Comp: 0.94, 1.00 7m,33s\n",
      "Train Loss Components: C: 1.583, E: 0.004, I: 0.01\n",
      "Soft Comp: 0.940, Hard Comp: 1.000\n",
      "Last Tower Test  Corrects: Top-1: 50.47%, 19.29s\n",
      "\n",
      "\u001b[31mAdjusting lrs to [0.00999972584682756]\u001b[0m\n",
      "02/22/2020 11:15 AM\n",
      "Train Epoch: 2   [12512 /50000  (100%)]\tComp Ratio: [E: 0.880, I: 1.000], Loss Comp: [C: 1.743, E: 0.002, I: 0.01], Per Epoch: 3m,48s , Alloc: 7.26GiB, Data T: 7.985 , Op T: 443.589\n",
      "Train Corrects: Top-1: 42.59%, Comp: 0.88, 1.00 7m,31s\n",
      "Train Loss Components: C: 1.743, E: 0.002, I: 0.01\n",
      "Soft Comp: 0.880, Hard Comp: 1.000\n",
      "Last Tower Test  Corrects: Top-1: 54.01%, 19.33s\n",
      "\n",
      "\u001b[31mAdjusting lrs to [0.009999383162408303]\u001b[0m\n",
      "02/22/2020 11:23 AM\n",
      "Train Epoch: 3   [12512 /50000  (100%)]\tComp Ratio: [E: 0.843, I: 1.000], Loss Comp: [C: 1.018, E: 0.001, I: 0.01], Per Epoch: 3m,22s , Alloc: 7.26GiB, Data T: 7.979 , Op T: 446.122\n",
      "Train Corrects: Top-1: 45.49%, Comp: 0.84, 1.00 7m,34s\n",
      "Train Loss Components: C: 1.018, E: 0.001, I: 0.01\n",
      "\n",
      "Deadheaded 0 operations\n",
      "Param Delta: 704,549 -> 704,549\n",
      "Soft Comp: 0.843, Hard Comp: 1.000\n",
      "Last Tower Test  Corrects: Top-1: 57.92%, 19.34s\n",
      "\n",
      "\u001b[31mAdjusting lrs to [0.009998903417374227]\u001b[0m\n",
      "02/22/2020 11:31 AM\n",
      "Train Epoch: 4   [12512 /50000  (100%)]\tComp Ratio: [E: 0.806, I: 1.000], Loss Comp: [C: 1.414, E: 0.000, I: 0.01], Per Epoch: 3m,55s , Alloc: 7.31GiB, Data T: 8.001 , Op T: 444.745\n",
      "Train Corrects: Top-1: 48.02%, Comp: 0.81, 1.00 7m,33s\n",
      "Train Loss Components: C: 1.414, E: 0.000, I: 0.01\n",
      "Soft Comp: 0.806, Hard Comp: 1.000\n",
      "Last Tower Test  Corrects: Top-1: 59.62%, 19.29s\n",
      "\n",
      "\u001b[31mAdjusting lrs to [0.009998286624877785]\u001b[0m\n",
      "02/22/2020 11:39 AM\n",
      "Train Epoch: 5   [12512 /50000  (100%)]\tComp Ratio: [E: 0.806, I: 1.000], Loss Comp: [C: 1.205, E: 0.000, I: 0.01], Per Epoch: 3m,21s , Alloc: 7.31GiB, Data T: 7.972 , Op T: 439.660\n",
      "Train Corrects: Top-1: 50.54%, Comp: 0.81, 1.00 7m,27s\n",
      "Train Loss Components: C: 1.205, E: 0.000, I: 0.01\n",
      "Soft Comp: 0.806, Hard Comp: 1.000\n",
      "Last Tower Test  Corrects: Top-1: 63.52%, 19.32s\n",
      "\n",
      "\u001b[31mAdjusting lrs to [0.009997532801828659]\u001b[0m\n",
      "02/22/2020 11:47 AM\n",
      "Train Epoch: 6   [32704 /50000  (65%)]\tComp Ratio: [E: 0.797, I: 1.000], Loss Comp: [C: 1.442, E: 0.000, I: 0.01], Per Epoch: 7m,16s , Alloc: 7.31GiB, Data T: 5.220 , Op T: 290.316\r"
     ]
    }
   ],
   "source": [
    "bonsai = Bonsai(hypers)\n",
    "bonsai.train()"
   ]
  },
  {
   "cell_type": "code",
   "execution_count": null,
   "metadata": {},
   "outputs": [],
   "source": [
    "bonsai.random_search(1)"
   ]
  },
  {
   "cell_type": "code",
   "execution_count": null,
   "metadata": {},
   "outputs": [],
   "source": [
    "bonsai.random_search(2)"
   ]
  },
  {
   "cell_type": "code",
   "execution_count": null,
   "metadata": {},
   "outputs": [],
   "source": [
    "bonsai.random_search(3)"
   ]
  }
 ],
 "metadata": {
  "kernelspec": {
   "display_name": "Python 3",
   "language": "python",
   "name": "python3"
  },
  "language_info": {
   "codemirror_mode": {
    "name": "ipython",
    "version": 3
   },
   "file_extension": ".py",
   "mimetype": "text/x-python",
   "name": "python",
   "nbconvert_exporter": "python",
   "pygments_lexer": "ipython3",
   "version": "3.6.9"
  },
  "toc": {
   "base_numbering": 1,
   "nav_menu": {},
   "number_sections": true,
   "sideBar": true,
   "skip_h1_title": false,
   "title_cell": "Table of Contents",
   "title_sidebar": "Contents",
   "toc_cell": false,
   "toc_position": {},
   "toc_section_display": true,
   "toc_window_display": false
  }
 },
 "nbformat": 4,
 "nbformat_minor": 2
}
