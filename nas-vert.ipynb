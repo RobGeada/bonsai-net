{
 "cells": [
  {
   "cell_type": "markdown",
   "metadata": {},
   "source": [
    "# Imports"
   ]
  },
  {
   "cell_type": "code",
   "execution_count": 6,
   "metadata": {},
   "outputs": [
    {
     "name": "stdout",
     "output_type": "stream",
     "text": [
      "The autoreload extension is already loaded. To reload it, use:\n",
      "  %reload_ext autoreload\n"
     ]
    },
    {
     "data": {
      "text/plain": [
       "'0.00B'"
      ]
     },
     "execution_count": 6,
     "metadata": {},
     "output_type": "execute_result"
    }
   ],
   "source": [
    "import pickle as pkl\n",
    "import time\n",
    "import sys\n",
    "import numpy as np\n",
    "\n",
    "from bonsai.data_loaders import load_data\n",
    "from bonsai.net import Net\n",
    "from bonsai.trainers import *\n",
    "from bonsai.helpers import *\n",
    "from bonsai.ops import commons, Zero\n",
    "\n",
    "%load_ext autoreload\n",
    "%autoreload 2\n",
    "\n",
    "mem_stats()"
   ]
  },
  {
   "cell_type": "code",
   "execution_count": 18,
   "metadata": {},
   "outputs": [
    {
     "name": "stdout",
     "output_type": "stream",
     "text": [
      "6\n"
     ]
    }
   ],
   "source": [
    "nas_schedule = {'learn_phase':16,\n",
    "                'prune_phase':16,\n",
    "                'prune_interval':4}\n",
    "hypers = {\n",
    "    'gpu_space':8.25,\n",
    "    'dataset':'CIFAR10',\n",
    "    'classes':10,\n",
    "    'batch_size':64,\n",
    "    'scale':5,\n",
    "    'nodes':4,\n",
    "    'patterns':[['n','n','na'],['r','n','n','na'],['r','n','na'],['r','n','na'],['r','n','na'],['r','na'],['n','na']],\n",
    "    'half':False,\n",
    "    'multiplier':1,\n",
    "    'lr_schedule':\n",
    "        {'lr_max': .01,\n",
    "         'T': 600},\n",
    "    'drop_prob':.25,\n",
    "    'prune_rate':{'edge':.5,'input':.5}\n",
    "}\n",
    "data, dim = load_data(hypers['batch_size'], hypers['dataset'])\n",
    "hypers['num_patterns']=get_n_patterns(hypers['patterns'], dim, target=5)\n",
    "print(hypers['num_patterns'])"
   ]
  },
  {
   "cell_type": "markdown",
   "metadata": {},
   "source": [
    "# Determine Height/Size Ratios\n",
    "Check how a test model scales under the search params to ensure we don't overfill GPU"
   ]
  },
  {
   "cell_type": "markdown",
   "metadata": {},
   "source": [
    "### check out a sample model "
   ]
  },
  {
   "cell_type": "code",
   "execution_count": 19,
   "metadata": {
    "scrolled": false
   },
   "outputs": [
    {
     "name": "stdout",
     "output_type": "stream",
     "text": [
      "=========================== NETWORK ===========================\n",
      "================== Hyannis Micronesia Bangui ==================\n",
      "                     :     Dim      :    Params    :   Comp   \n",
      "Initializer          :              :     160      :          \n",
      "Cell 0  (Normal)     :   32 x 32    :    9,946     :   24.1%  \n",
      "Cell 1  (Normal)     :   32 x 32    :    9,947     :   24.1%  \n",
      "Cell 2  (Normal)     :   32 x 32    :    9,948     :   24.1%  \n",
      " ↳ Aux Tower         :              :   327,690    :          \n",
      "Cell 3  (Reduction)  :   64 x 16    :    32,157    :   24.7%  \n",
      "Cell 4  (Normal)     :   64 x 16    :    33,133    :   25.0%  \n",
      "Cell 5  (Normal)     :   64 x 16    :    33,134    :   25.0%  \n",
      "Cell 6  (Normal)     :   64 x 16    :    33,135    :   25.0%  \n",
      " ↳ Aux Tower         :              :   163,850    :          \n",
      "Cell 7  (Reduction)  :  128 x 8     :   113,441    :   24.1%  \n",
      "Cell 8  (Normal)     :  128 x 8     :   113,452    :   25.0%  \n",
      "Cell 9  (Normal)     :  128 x 8     :   113,453    :   25.0%  \n",
      " ↳ Aux Tower         :              :    81,930    :          \n",
      "Cell 10 (Reduction)  :  256 x 4     :   427,315    :   25.0%  \n",
      "Cell 11 (Normal)     :  256 x 4     :   696,870    :   25.0%  \n",
      "Cell 12 (Normal)     :  256 x 4     :   696,871    :   25.0%  \n",
      " ↳ Aux Tower         :              :    40,970    :          \n",
      "Cell 13 (Reduction)  :  512 x 2     :  1,633,329   :   23.8%  \n",
      "Cell 14 (Normal)     :  512 x 2     :  1,648,700   :   21.4%  \n",
      "Cell 15 (Normal)     :  512 x 2     :  1,648,701   :   21.4%  \n",
      " ↳ Aux Tower         :              :    20,490    :          \n",
      "Cell 16 (Reduction)  :  1024x 1     :  29,759,561  :  100.0%  \n",
      "Cell 17 (Normal)     :  1024x 1     :  29,759,562  :  100.0%  \n",
      " ↳ Classifier        :              :    10,250    :          \n",
      "===============================================================\n",
      "Total                :              :  67,417,995  :   30.7%  \n",
      "===============================================================\n",
      "\n",
      "\n",
      "(7.521484375, False)\n"
     ]
    }
   ],
   "source": [
    "print(sp_size_test(hypers['num_patterns']-1,e_c=.25,add_pattern=True,remove_prune=False,print_model=True,**hypers))"
   ]
  },
  {
   "cell_type": "markdown",
   "metadata": {},
   "source": [
    "### Get Sizing Ratios"
   ]
  },
  {
   "cell_type": "code",
   "execution_count": 20,
   "metadata": {},
   "outputs": [
    {
     "name": "stdout",
     "output_type": "stream",
     "text": [
      "Comp Ratios: \n",
      " 1->2: 1.000 \n",
      "*2->3: 0.850 \n",
      " 3->4: 0.700 \n",
      " 4->5: 0.500 \n",
      " 5->6: 0.375\n"
     ]
    }
   ],
   "source": [
    "sizes = {}\n",
    "for n in range(1,hypers['num_patterns']):\n",
    "    sizes[n]=[]\n",
    "    remove_prune = False#(n==hypers['num_patterns']['final']-1)\n",
    "    bst=BST(.2,1.)\n",
    "    while bst.answer is None:\n",
    "        print(\"{}: {:.3f}\\r\".format(n,bst.pos),end=\"\")\n",
    "        size = sp_size_test(n,e_c=bst.pos,add_pattern=True,remove_prune=remove_prune,**hypers)\n",
    "        query = not (not size[1] and (size[0])<hypers['gpu_space'])\n",
    "        bst.query(query)\n",
    "    if bst.passes:\n",
    "        sizes[n]=max(bst.passes)\n",
    "\n",
    "if any([v for (k,v) in sizes.items() if v==1]):\n",
    "    start_size = [k for (k,v) in sizes.items() if v==1][-1]+1\n",
    "else:\n",
    "    start_size = 1\n",
    "print(\"Comp Ratios:\",*[\"\\n{}{}->{}: {:.3f}\".format(\" \" if k!=start_size else \"*\",k,k+1,v) for (k,v) in sizes.items()])"
   ]
  },
  {
   "cell_type": "markdown",
   "metadata": {},
   "source": [
    "# Search"
   ]
  },
  {
   "cell_type": "markdown",
   "metadata": {},
   "source": [
    "## Model Setup"
   ]
  },
  {
   "cell_type": "code",
   "execution_count": 21,
   "metadata": {
    "scrolled": false
   },
   "outputs": [
    {
     "name": "stdout",
     "output_type": "stream",
     "text": [
      "Init: 26.00MiB\n",
      "0: 1.90GiB\n",
      "1: 3.62GiB\n",
      "2: 5.34GiB\n",
      "Tower 2: 5.34GiB\n",
      "3: 5.46GiB\n",
      "4: 5.97GiB\n",
      "5: 6.78GiB\n",
      "6: 7.60GiB\n",
      "GP: 7.60GiB\n",
      "Classifier: 7.60GiB\n",
      "=========================== NETWORK ===========================\n",
      "================== Oppenheimer Essex Convair ==================\n",
      "                     :     Dim      :    Params    :   Comp   \n",
      "Initializer          :              :     160      :          \n",
      "Cell 0  (Normal)     :   32 x 32    :    41,209    :  100.0%  \n",
      "Cell 1  (Normal)     :   32 x 32    :    41,210    :  100.0%  \n",
      "Cell 2  (Normal)     :   32 x 32    :    41,211    :  100.0%  \n",
      " ↳ Aux Tower         :              :   327,690    :          \n",
      "Cell 3  (Reduction)  :   64 x 16    :   139,708    :  100.0%  \n",
      "Cell 4  (Normal)     :   64 x 16    :   139,709    :  100.0%  \n",
      "Cell 5  (Normal)     :   64 x 16    :   139,710    :  100.0%  \n",
      "Cell 6  (Normal)     :   64 x 16    :   139,711    :  100.0%  \n",
      " ↳ Classifier        :              :   163,850    :          \n",
      "===============================================================\n",
      "Total                :              :  1,174,168   :  100.0%  \n",
      "===============================================================\n",
      "\n",
      "Est Size: 7.60GiB \n"
     ]
    }
   ],
   "source": [
    "def jn_print(x,end=\"\\n\"):\n",
    "    print(x,end=end)\n",
    "    with open(\"logs/jn_out.log\",\"a\") as f:\n",
    "        f.write(x+end)\n",
    "          \n",
    "# init model\n",
    "model = Net(dim=dim, \n",
    "            classes=hypers['classes'], \n",
    "            scale=hypers['scale'],\n",
    "            patterns=hypers['patterns'], \n",
    "            num_patterns=start_size,\n",
    "            nodes=hypers['nodes'],\n",
    "            drop_prob=hypers['drop_prob'],\n",
    "            lr_schedule=hypers['lr_schedule'])\n",
    "model.data = data\n",
    "size, overflow = size_test(model, data)\n",
    "print(model)\n",
    "print(\"Est Size: {}{:.2f}GiB {}\".format(\">\" if overflow else \"\", size, \"(overflow)\" if overflow else \"\")) \n",
    "if overflow:\n",
    "    del model\n",
    "    clean('Search init')    "
   ]
  },
  {
   "cell_type": "markdown",
   "metadata": {},
   "source": [
    "## Model Search"
   ]
  },
  {
   "cell_type": "code",
   "execution_count": null,
   "metadata": {
    "scrolled": true
   },
   "outputs": [
    {
     "name": "stdout",
     "output_type": "stream",
     "text": [
      "=== 2 ===\n",
      "=========================== NETWORK ===========================\n",
      "================== Oppenheimer Essex Convair ==================\n",
      "                     :     Dim      :    Params    :   Comp   \n",
      "Initializer          :              :     160      :          \n",
      "Cell 0  (Normal)     :   32 x 32    :    41,209    :  100.0%  \n",
      "Cell 1  (Normal)     :   32 x 32    :    41,210    :  100.0%  \n",
      "Cell 2  (Normal)     :   32 x 32    :    41,211    :  100.0%  \n",
      " ↳ Aux Tower         :              :   327,690    :          \n",
      "Cell 3  (Reduction)  :   64 x 16    :   139,708    :  100.0%  \n",
      "Cell 4  (Normal)     :   64 x 16    :   139,709    :  100.0%  \n",
      "Cell 5  (Normal)     :   64 x 16    :   139,710    :  100.0%  \n",
      "Cell 6  (Normal)     :   64 x 16    :   139,711    :  100.0%  \n",
      " ↳ Classifier        :              :   163,850    :          \n",
      "===============================================================\n",
      "Total                :              :  1,174,168   :  100.0%  \n",
      "===============================================================\n",
      "\n",
      "=== 2 Patterns. Target Comp: 0.85, Aim: 0.77\n",
      "=== Training Oppenheimer Essex Convair ===\n",
      "Starting at 2019-12-05 13:30:49.860562\n",
      "12/05/2019 01:30 PM\n",
      "Init: 50.00MiB\n",
      "0: 1.91GiB\n",
      "1: 3.63GiB\n",
      "2: 5.35GiB\n",
      "Tower 2: 5.35GiB\n",
      "3: 5.46GiB\n",
      "4: 5.97GiB\n",
      "5: 6.78GiB\n",
      "6: 7.60GiB\n",
      "GP: 7.60GiB\n",
      "Classifier: 7.60GiB\n",
      "Train Epoch: 0   [12512 /50000  (100%)]\tPer Epoch: 6m,49s , Alloc: 8.23GiB  \n",
      "Train Corrects: Top-1: 44.25%, 7m,7s\n",
      "Soft Comp: 0.996, Hard Comp: 1.000\n",
      "Last Tower Test  Corrects: Top-1: 61.29%, 20.82s\n",
      "\n",
      "\u001b[31mAdjusting lr to 0.009999931461237134\u001b[0m\n",
      "12/05/2019 01:38 PM\n",
      "Train Epoch: 1   [12512 /50000  (100%)]\tPer Epoch: 5m,50s , Alloc: 8.23GiB  \n",
      "Train Corrects: Top-1: 57.62%, 7m,10s\n",
      "Soft Comp: 0.976, Hard Comp: 1.000\n",
      "Last Tower Test  Corrects: Top-1: 68.06%, 20.90s\n",
      "\n",
      "\u001b[31mAdjusting lr to 0.00999972584682756\u001b[0m\n",
      "12/05/2019 01:45 PM\n",
      "Train Epoch: 2   [12512 /50000  (100%)]\tPer Epoch: 5m,53s , Alloc: 8.23GiB  \n",
      "Train Corrects: Top-1: 62.87%, 7m,13s\n",
      "Soft Comp: 0.960, Hard Comp: 1.000\n",
      "Last Tower Test  Corrects: Top-1: 70.73%, 21.20s\n",
      "\n",
      "\u001b[31mAdjusting lr to 0.009999383162408303\u001b[0m\n",
      "12/05/2019 01:53 PM\n",
      "Train Epoch: 3   [12512 /50000  (100%)]\tPer Epoch: 5m,42s , Alloc: 8.23GiB  \n",
      "Train Corrects: Top-1: 65.88%, 7m,8s\n",
      "Soft Comp: 0.968, Hard Comp: 1.000\n",
      "Last Tower Test  Corrects: Top-1: 72.73%, 20.08s\n",
      "\n",
      "\u001b[31mAdjusting lr to 0.009998903417374227\u001b[0m\n",
      "12/05/2019 02:00 PM\n",
      "Train Epoch: 4   [12512 /50000  (100%)]\tPer Epoch: 5m,44s , Alloc: 8.23GiB  \n",
      "Train Corrects: Top-1: 67.99%, 6m,59s\n",
      "Soft Comp: 0.947, Hard Comp: 1.000\n",
      "Last Tower Test  Corrects: Top-1: 74.51%, 20.41s\n",
      "\n",
      "\u001b[31mAdjusting lr to 0.009998286624877785\u001b[0m\n",
      "12/05/2019 02:08 PM\n",
      "Train Epoch: 5   [12512 /50000  (100%)]\tPer Epoch: 5m,40s , Alloc: 8.23GiB  \n",
      "Train Corrects: Top-1: 69.52%, 7m,1s\n",
      "Soft Comp: 0.956, Hard Comp: 1.000\n",
      "Last Tower Test  Corrects: Top-1: 76.69%, 20.15s\n",
      "\n",
      "\u001b[31mAdjusting lr to 0.009997532801828659\u001b[0m\n",
      "12/05/2019 02:15 PM\n",
      "Train Epoch: 6   [12512 /50000  (100%)]\tPer Epoch: 5m,47s , Alloc: 8.23GiB  \n",
      "Train Corrects: Top-1: 71.20%, 7m,1s\n",
      "Soft Comp: 0.937, Hard Comp: 1.000\n",
      "Last Tower Test  Corrects: Top-1: 76.33%, 21.57s\n",
      "\n",
      "\u001b[31mAdjusting lr to 0.00999664196889328\u001b[0m\n",
      "12/05/2019 02:22 PM\n",
      "Train Epoch: 7   [12512 /50000  (100%)]\tPer Epoch: 5m,40s , Alloc: 8.23GiB  \n",
      "Train Corrects: Top-1: 72.17%, 6m,59s\n",
      "Soft Comp: 0.930, Hard Comp: 1.000\n",
      "Last Tower Test  Corrects: Top-1: 78.00%, 20.18s\n",
      "\n",
      "\u001b[31mAdjusting lr to 0.009995614150494292\u001b[0m\n",
      "12/05/2019 02:30 PM\n",
      "Train Epoch: 8   [12512 /50000  (100%)]\tPer Epoch: 6m,8s  , Alloc: 8.23GiB  \n",
      "Train Corrects: Top-1: 73.09%, 7m,0s\n",
      "Soft Comp: 0.904, Hard Comp: 1.000\n",
      "Last Tower Test  Corrects: Top-1: 78.89%, 21.30s\n",
      "\n",
      "\u001b[31mAdjusting lr to 0.00999444937480985\u001b[0m\n",
      "12/05/2019 02:37 PM\n",
      "Train Epoch: 9   [12512 /50000  (100%)]\tPer Epoch: 6m,7s  , Alloc: 8.23GiB  \n",
      "Train Corrects: Top-1: 74.33%, 7m,14s\n",
      "Soft Comp: 0.922, Hard Comp: 1.000\n",
      "Last Tower Test  Corrects: Top-1: 79.19%, 21.31s\n",
      "\n",
      "\u001b[31mAdjusting lr to 0.009993147673772868\u001b[0m\n",
      "12/05/2019 02:45 PM\n",
      "Train Epoch: 10  [12512 /50000  (100%)]\tPer Epoch: 5m,50s , Alloc: 8.23GiB  \n",
      "Train Corrects: Top-1: 75.15%, 7m,17s\n",
      "Soft Comp: 0.903, Hard Comp: 1.000\n",
      "Last Tower Test  Corrects: Top-1: 77.39%, 21.30s\n",
      "\n",
      "\u001b[31mAdjusting lr to 0.009991709083070142\u001b[0m\n",
      "12/05/2019 02:52 PM\n",
      "Train Epoch: 11  [12512 /50000  (100%)]\tPer Epoch: 5m,43s , Alloc: 8.23GiB  \n",
      "Train Corrects: Top-1: 76.19%, 7m,19s\n",
      "Soft Comp: 0.895, Hard Comp: 1.000\n",
      "Last Tower Test  Corrects: Top-1: 79.31%, 21.06s\n",
      "\n",
      "\u001b[31mAdjusting lr to 0.009990133642141357\u001b[0m\n",
      "12/05/2019 03:00 PM\n",
      "Train Epoch: 12  [12512 /50000  (100%)]\tPer Epoch: 5m,49s , Alloc: 8.23GiB  \n",
      "Train Corrects: Top-1: 76.77%, 7m,15s\n",
      "Soft Comp: 0.890, Hard Comp: 1.000\n",
      "Last Tower Test  Corrects: Top-1: 80.41%, 21.17s\n",
      "\n",
      "\u001b[31mAdjusting lr to 0.009988421394178026\u001b[0m\n",
      "12/05/2019 03:08 PM\n",
      "Train Epoch: 13  [12512 /50000  (100%)]\tPer Epoch: 5m,45s , Alloc: 8.23GiB  \n",
      "Train Corrects: Top-1: 77.39%, 7m,14s\n",
      "Soft Comp: 0.880, Hard Comp: 1.000\n",
      "Last Tower Test  Corrects: Top-1: 81.88%, 21.11s\n",
      "\n",
      "\u001b[31mAdjusting lr to 0.00998657238612229\u001b[0m\n",
      "12/05/2019 03:15 PM\n",
      "Train Epoch: 14  [12512 /50000  (100%)]\tPer Epoch: 5m,44s , Alloc: 8.23GiB  \n",
      "Train Corrects: Top-1: 78.29%, 7m,16s\n",
      "Soft Comp: 0.890, Hard Comp: 1.000\n",
      "Last Tower Test  Corrects: Top-1: 80.97%, 21.51s\n",
      "\n",
      "\u001b[31mAdjusting lr to 0.00998458666866564\u001b[0m\n",
      "12/05/2019 03:23 PM\n",
      "Train Epoch: 15  [12512 /50000  (100%)]\tPer Epoch: 6m,20s , Alloc: 8.23GiB  \n",
      "Train Corrects: Top-1: 78.77%, 7m,15s\n",
      "Soft Comp: 0.903, Hard Comp: 1.000\n",
      "Last Tower Test  Corrects: Top-1: 82.22%, 21.51s\n",
      "\n",
      "\u001b[31mAdjusting lr to 0.009982464296247521\u001b[0m\n",
      "12/05/2019 03:31 PM\n",
      "Train Epoch: 16  [12512 /50000  (100%)]\tComp Raqtio: [E: 0.787, I: 2.286], Loss Comp: [C: 1.134, E: 0.078, I: 0.55], Per Epoch: 8m,8s  , Alloc: 8.23GiB  \n",
      "Train Corrects: Top-1: 78.81%, Comp: 0.79, 2.29 9m,36s\n",
      "Train Loss Components: C: 1.134, E: 0.078, I: 0.55\n",
      "Soft Comp: 0.776, Hard Comp: 1.000\n",
      "Last Tower Test  Corrects: Top-1: 81.98%, 21.23s\n",
      "\n",
      "\u001b[31mAdjusting lr to 0.009980205327053848\u001b[0m\n",
      "12/05/2019 03:41 PM\n",
      "Train Epoch: 17  [12512 /50000  (100%)]\tComp Raqtio: [E: 0.747, I: 2.286], Loss Comp: [C: 1.337, E: 0.043, I: 0.55], Per Epoch: 8m,6s  , Alloc: 8.23GiB  \n",
      "Train Corrects: Top-1: 79.21%, Comp: 0.75, 2.29 9m,36s\n",
      "Train Loss Components: C: 1.337, E: 0.043, I: 0.55\n",
      "Soft Comp: 0.778, Hard Comp: 1.000\n",
      "Last Tower Test  Corrects: Top-1: 82.22%, 21.30s\n",
      "\n",
      "\u001b[31mAdjusting lr to 0.0099778098230154\u001b[0m\n",
      "12/05/2019 03:50 PM\n",
      "Train Epoch: 18  [41664 /50000  (83%)]\tComp Raqtio: [E: 0.791, I: 3.571], Loss Comp: [C: 1.787, E: 0.045, I: 0.78], Per Epoch: 9m,17s , Alloc: 8.23GiB  \r"
     ]
    }
   ],
   "source": [
    "wipe_output()\n",
    "search_start = time.time()\n",
    "\n",
    "# search loop\n",
    "for n in range(start_size,hypers['num_patterns']):\n",
    "    print(\"===\",n,\"===\")\n",
    "    print(model)\n",
    "    finish = False\n",
    "    comp_ratio = sizes.get(n,0)\n",
    "    aim = comp_ratio*.9 if comp_ratio>.35 else comp_ratio*.66\n",
    "    jn_print(\"=== {} Patterns. Target Comp: {:.2f}, Aim: {:.2f}\".format(n, comp_ratio,aim))\n",
    "\n",
    "    for tries in range(1,10):\n",
    "        # try initialization\n",
    "        epochs = (nas_schedule['learn_phase']*(tries==1))+nas_schedule['prune_phase']\n",
    "        comp_lambdas = {'transition': model.lr_scheduler.t+(nas_schedule['prune_phase']*(tries==1)),\n",
    "                        'lambdas': {k:v*tries for k,v in hypers['prune_rate'].items()}}\n",
    "        \n",
    "        #learn+prune\n",
    "        full_train(model, epochs, comp_lambdas=comp_lambdas, comp_ratio=aim, prune_interval=nas_schedule['prune_interval'])\n",
    "        clean(verbose=False)\n",
    "        hard_comp = model.genotype_compression()[1]\n",
    "        if hard_comp and hard_comp > sizes[n]:\n",
    "            jn_print(\"Try {}. Restarting pruning at pattern {}. Target comp: {:.2f}/{:.2f}, Actual: {:.3f}\".format(tries,n,comp_ratio,aim,hard_comp))\n",
    "        else:\n",
    "            finish = True\n",
    "            break\n",
    "\n",
    "    if finish:\n",
    "        if n != hypers['num_patterns']:\n",
    "            print(\"Adding next pattern:\",n+1)\n",
    "            model.add_pattern()\n",
    "    else: \n",
    "        print(\"No progress after 10 tries, aborting.\")\n",
    "        break\n",
    "\n",
    "clean(\"Search End\")\n",
    "print(\"Search Time:\",show_time(time.time()-search_start))\n",
    "print(model)"
   ]
  },
  {
   "cell_type": "markdown",
   "metadata": {},
   "source": [
    "# Train"
   ]
  },
  {
   "cell_type": "code",
   "execution_count": null,
   "metadata": {
    "scrolled": true
   },
   "outputs": [],
   "source": [
    "full_train(model, epochs=model.lr_scheduler.remaining);\n",
    "clean()"
   ]
  },
  {
   "cell_type": "markdown",
   "metadata": {
    "heading_collapsed": true
   },
   "source": [
    "# Random Search"
   ]
  },
  {
   "cell_type": "code",
   "execution_count": null,
   "metadata": {
    "hidden": true
   },
   "outputs": [],
   "source": [
    "e_c, i_c = .25, 1"
   ]
  },
  {
   "cell_type": "code",
   "execution_count": null,
   "metadata": {
    "hidden": true
   },
   "outputs": [],
   "source": [
    "data, dim =load_data(hypers['batch_size'], hypers['dataset'])\n",
    "model = Net(dim=dim, \n",
    "            classes=hypers['classes'], \n",
    "            scale=hypers['scale'],\n",
    "            num_patterns=hypers['num_patterns'],\n",
    "            patterns=hypers['patterns'],\n",
    "            nodes=hypers['nodes'],\n",
    "            random_ops={'e_c':e_c,'i_c':i_c}, \n",
    "            drop_prob=hypers['drop_prob'],\n",
    "            lr_schedule=hypers['lr_schedule'],\n",
    "            prune=False)\n",
    "model.data = data\n",
    "model.save_genotype()\n",
    "print(model)\n",
    "print(size_test(model, data))"
   ]
  },
  {
   "cell_type": "code",
   "execution_count": null,
   "metadata": {
    "hidden": true
   },
   "outputs": [],
   "source": [
    "full_train(model, hypers['lr_schedule']['T'])"
   ]
  },
  {
   "cell_type": "markdown",
   "metadata": {
    "heading_collapsed": true
   },
   "source": [
    "# Scratch"
   ]
  }
 ],
 "metadata": {
  "kernelspec": {
   "display_name": "Python 3",
   "language": "python",
   "name": "python3"
  },
  "language_info": {
   "codemirror_mode": {
    "name": "ipython",
    "version": 3
   },
   "file_extension": ".py",
   "mimetype": "text/x-python",
   "name": "python",
   "nbconvert_exporter": "python",
   "pygments_lexer": "ipython3",
   "version": "3.6.8"
  },
  "toc": {
   "base_numbering": 1,
   "nav_menu": {},
   "number_sections": true,
   "sideBar": true,
   "skip_h1_title": false,
   "title_cell": "Table of Contents",
   "title_sidebar": "Contents",
   "toc_cell": false,
   "toc_position": {},
   "toc_section_display": true,
   "toc_window_display": false
  }
 },
 "nbformat": 4,
 "nbformat_minor": 2
}
