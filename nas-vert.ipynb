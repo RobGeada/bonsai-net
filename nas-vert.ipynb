{
 "cells": [
  {
   "cell_type": "markdown",
   "metadata": {},
   "source": [
    "# Imports"
   ]
  },
  {
   "cell_type": "code",
   "execution_count": 1,
   "metadata": {},
   "outputs": [
    {
     "data": {
      "text/plain": [
       "'0.00B'"
      ]
     },
     "execution_count": 1,
     "metadata": {},
     "output_type": "execute_result"
    }
   ],
   "source": [
    "import pickle as pkl\n",
    "import time\n",
    "import sys\n",
    "import numpy as np\n",
    "\n",
    "from bonsai.data_loaders import load_data\n",
    "from bonsai.net import Net\n",
    "from bonsai.trainers import *\n",
    "from bonsai.helpers import *\n",
    "from bonsai.ops import commons, Zero\n",
    "\n",
    "%load_ext autoreload\n",
    "%autoreload 2\n",
    "\n",
    "mem_stats()"
   ]
  },
  {
   "cell_type": "code",
   "execution_count": 24,
   "metadata": {},
   "outputs": [
    {
     "name": "stdout",
     "output_type": "stream",
     "text": [
      "6\n"
     ]
    }
   ],
   "source": [
    "nas_schedule = {'learn_phase':16,\n",
    "                'prune_phase':16,\n",
    "                'prune_interval':4}\n",
    "hypers = {\n",
    "    'gpu_space':8.25,\n",
    "    'dataset':'CIFAR10',\n",
    "    'classes':10,\n",
    "    'batch_size':64,\n",
    "    'scale':5,\n",
    "    'nodes':4,\n",
    "    'patterns':[['r','n','n','na'],['n','n','na']],\n",
    "    'half':False,\n",
    "    'multiplier':1,\n",
    "    'lr_schedule':\n",
    "        {'lr_max': .01,\n",
    "         'T': 600},\n",
    "    'drop_prob':.25,\n",
    "    'prune_rate':{'edge':.5,'input':.5}\n",
    "}\n",
    "data, dim = load_data(hypers['batch_size'], hypers['dataset'])\n",
    "hypers['num_patterns']=get_n_patterns(hypers['patterns'], dim, target=2)+1\n",
    "print(hypers['num_patterns'])"
   ]
  },
  {
   "cell_type": "markdown",
   "metadata": {},
   "source": [
    "# Determine Height/Size Ratios\n",
    "Check how a test model scales under the search params to ensure we don't overfill GPU"
   ]
  },
  {
   "cell_type": "markdown",
   "metadata": {},
   "source": [
    "### check out a sample model "
   ]
  },
  {
   "cell_type": "code",
   "execution_count": 25,
   "metadata": {
    "scrolled": false
   },
   "outputs": [
    {
     "name": "stdout",
     "output_type": "stream",
     "text": [
      "=========================== NETWORK ===========================\n",
      "===================== Oscar Ceylon Babel ======================\n",
      "                     :     Dim      :    Params    :   Comp   \n",
      "Initializer          :              :     160      :          \n",
      "Cell 0  (Normal)     :   32 x 32    :    9,946     :   24.1%  \n",
      "Cell 1  (Normal)     :   32 x 32    :    9,947     :   24.1%  \n",
      "Cell 2  (Normal)     :   32 x 32    :    9,948     :   24.1%  \n",
      "Cell 3  (Normal)     :   32 x 32    :    9,949     :   24.1%  \n",
      " ↳ Aux Tower         :              :   327,690    :          \n",
      "Cell 4  (Normal)     :   32 x 32    :    9,950     :   24.1%  \n",
      "Cell 5  (Normal)     :   32 x 32    :    9,951     :   24.1%  \n",
      "Cell 6  (Normal)     :   32 x 32    :    9,952     :   24.1%  \n",
      " ↳ Aux Tower         :              :   327,690    :          \n",
      "Cell 7  (Reduction)  :   64 x 16    :    32,161    :   24.7%  \n",
      "Cell 8  (Normal)     :   64 x 16    :    33,137    :   25.0%  \n",
      "Cell 9  (Normal)     :   64 x 16    :    33,138    :   25.0%  \n",
      "Cell 10 (Normal)     :   64 x 16    :    33,139    :   25.0%  \n",
      " ↳ Aux Tower         :              :   163,850    :          \n",
      "Cell 11 (Normal)     :   64 x 16    :    33,140    :   25.0%  \n",
      "Cell 12 (Normal)     :   64 x 16    :    33,141    :   25.0%  \n",
      "Cell 13 (Normal)     :   64 x 16    :    33,142    :   25.0%  \n",
      " ↳ Aux Tower         :              :   163,850    :          \n",
      "Cell 14 (Reduction)  :  128 x 8     :   113,448    :   24.1%  \n",
      "Cell 15 (Normal)     :  128 x 8     :   113,459    :   25.0%  \n",
      "Cell 16 (Normal)     :  128 x 8     :   113,460    :   25.0%  \n",
      "Cell 17 (Normal)     :  128 x 8     :   113,461    :   25.0%  \n",
      " ↳ Aux Tower         :              :    81,930    :          \n",
      "Cell 18 (Normal)     :  128 x 8     :   508,747    :  100.0%  \n",
      "Cell 19 (Normal)     :  128 x 8     :   508,748    :  100.0%  \n",
      "Cell 20 (Normal)     :  128 x 8     :   508,749    :  100.0%  \n",
      " ↳ Classifier        :              :    81,930    :          \n",
      "===============================================================\n",
      "Total                :              :  3,427,813   :   25.1%  \n",
      "===============================================================\n",
      "\n",
      "\n",
      "(8.9921875, True)\n"
     ]
    }
   ],
   "source": [
    "print(sp_size_test(hypers['num_patterns']-1,e_c=.25,add_pattern=True,remove_prune=False,print_model=True,**hypers))"
   ]
  },
  {
   "cell_type": "markdown",
   "metadata": {},
   "source": [
    "### Get Sizing Ratios"
   ]
  },
  {
   "cell_type": "code",
   "execution_count": 26,
   "metadata": {},
   "outputs": [
    {
     "name": "stdout",
     "output_type": "stream",
     "text": [
      "Comp Ratios: \n",
      "*1->2: 0.241 \n",
      " 2->3: 0.297 \n",
      " 3->4: 0.241 \n",
      " 4->5: 0.100 \n",
      " 5->6: 0.100\n"
     ]
    }
   ],
   "source": [
    "sizes = {}\n",
    "for n in range(1,hypers['num_patterns']):\n",
    "    sizes[n]=[]\n",
    "    remove_prune = False#(n==hypers['num_patterns']['final']-1)\n",
    "    bst=BST(.1,1.)\n",
    "    while bst.answer is None:\n",
    "        print(\"{}: {:.3f}\\r\".format(n,bst.pos),end=\"\")\n",
    "        size = sp_size_test(n,e_c=bst.pos,add_pattern=True,remove_prune=remove_prune,**hypers)\n",
    "        query = not (not size[1] and (size[0])<hypers['gpu_space'])\n",
    "        bst.query(query)\n",
    "    if bst.passes:\n",
    "        sizes[n]=max(bst.passes)\n",
    "\n",
    "if any([v for (k,v) in sizes.items() if v==1]):\n",
    "    start_size = [k for (k,v) in sizes.items() if v==1][-1]+1\n",
    "else:\n",
    "    start_size = 1\n",
    "print(\"Comp Ratios:\",*[\"\\n{}{}->{}: {:.3f}\".format(\" \" if k!=start_size else \"*\",k,k+1,v) for (k,v) in sizes.items()])"
   ]
  },
  {
   "cell_type": "markdown",
   "metadata": {},
   "source": [
    "# Search"
   ]
  },
  {
   "cell_type": "markdown",
   "metadata": {},
   "source": [
    "## Model Setup"
   ]
  },
  {
   "cell_type": "code",
   "execution_count": 27,
   "metadata": {
    "scrolled": false
   },
   "outputs": [
    {
     "name": "stdout",
     "output_type": "stream",
     "text": [
      "Init: 24.00MiB\n",
      "0: 2.04GiB\n",
      "1: 3.89GiB\n",
      "2: 5.75GiB\n",
      "3: 7.60GiB\n",
      "GP: 7.60GiB\n",
      "Classifier: 7.60GiB\n",
      "=========================== NETWORK ===========================\n",
      "================== Anglo Muscovite Archibald ==================\n",
      "                     :     Dim      :    Params    :   Comp   \n",
      "Initializer          :              :     160      :          \n",
      "Cell 0  (Normal)     :   32 x 32    :    41,209    :  100.0%  \n",
      "Cell 1  (Normal)     :   32 x 32    :    41,210    :  100.0%  \n",
      "Cell 2  (Normal)     :   32 x 32    :    41,211    :  100.0%  \n",
      "Cell 3  (Normal)     :   32 x 32    :    41,212    :  100.0%  \n",
      " ↳ Classifier        :              :   327,690    :          \n",
      "===============================================================\n",
      "Total                :              :   492,692    :  100.0%  \n",
      "===============================================================\n",
      "\n",
      "Est Size: 7.60GiB \n"
     ]
    }
   ],
   "source": [
    "def jn_print(x,end=\"\\n\"):\n",
    "    print(x,end=end)\n",
    "    with open(\"logs/jn_out.log\",\"a\") as f:\n",
    "        f.write(x+end)\n",
    "          \n",
    "# init model\n",
    "model = Net(dim=dim, \n",
    "            classes=hypers['classes'], \n",
    "            scale=hypers['scale'],\n",
    "            patterns=hypers['patterns'], \n",
    "            num_patterns=start_size,\n",
    "            nodes=hypers['nodes'],\n",
    "            drop_prob=hypers['drop_prob'],\n",
    "            lr_schedule=hypers['lr_schedule'])\n",
    "model.data = data\n",
    "size, overflow = size_test(model, data)\n",
    "print(model)\n",
    "print(\"Est Size: {}{:.2f}GiB {}\".format(\">\" if overflow else \"\", size, \"(overflow)\" if overflow else \"\")) \n",
    "if overflow:\n",
    "    del model\n",
    "    clean('Search init')    "
   ]
  },
  {
   "cell_type": "markdown",
   "metadata": {},
   "source": [
    "## Model Search"
   ]
  },
  {
   "cell_type": "code",
   "execution_count": 28,
   "metadata": {
    "scrolled": true
   },
   "outputs": [
    {
     "name": "stdout",
     "output_type": "stream",
     "text": [
      "=== 1 ===\n",
      "=========================== NETWORK ===========================\n",
      "================== Anglo Muscovite Archibald ==================\n",
      "                     :     Dim      :    Params    :   Comp   \n",
      "Initializer          :              :     160      :          \n",
      "Cell 0  (Normal)     :   32 x 32    :    41,209    :  100.0%  \n",
      "Cell 1  (Normal)     :   32 x 32    :    41,210    :  100.0%  \n",
      "Cell 2  (Normal)     :   32 x 32    :    41,211    :  100.0%  \n",
      "Cell 3  (Normal)     :   32 x 32    :    41,212    :  100.0%  \n",
      " ↳ Classifier        :              :   327,690    :          \n",
      "===============================================================\n",
      "Total                :              :   492,692    :  100.0%  \n",
      "===============================================================\n",
      "\n",
      "=== 1 Patterns. Target Comp: 0.24, Aim: 0.16\n",
      "=== Training Anglo Muscovite Archibald ===\n",
      "Starting at 2019-12-10 12:15:43.220557\n",
      "12/10/2019 12:15 PM\n",
      "Init: 24.00MiB\n",
      "0: 2.04GiB\n",
      "1: 3.89GiB\n",
      "2: 5.75GiB\n",
      "3: 7.60GiB\n",
      "GP: 7.60GiB\n",
      "Classifier: 7.60GiB\n",
      "Train Epoch: 0   [12512 /50000  (100%)]\tPer Epoch: 3m,18s , Alloc: 7.60GiB  , Data T: 1.192 , Op T: 294.846\n",
      "Train Corrects: Top-1: 37.42%, 4m,56s\n",
      "Soft Comp: 0.993, Hard Comp: 1.000\n",
      "Last Tower Test  Corrects: Top-1: 49.89%, 16.54s\n",
      "\n",
      "\u001b[31mAdjusting lr to 0.009999931461237134\u001b[0m\n",
      "12/10/2019 12:20 PM\n",
      "Train Epoch: 1   [12512 /50000  (100%)]\tPer Epoch: 3m,16s , Alloc: 7.60GiB  , Data T: 1.188 , Op T: 295.745\n",
      "Train Corrects: Top-1: 47.77%, 4m,57s\n",
      "Soft Comp: 0.990, Hard Comp: 1.000\n",
      "Last Tower Test  Corrects: Top-1: 56.87%, 16.53s\n",
      "\n",
      "\u001b[31mAdjusting lr to 0.00999972584682756\u001b[0m\n",
      "12/10/2019 12:26 PM\n",
      "Train Epoch: 2   [12512 /50000  (100%)]\tPer Epoch: 3m,40s , Alloc: 7.60GiB  , Data T: 1.171 , Op T: 290.193\n",
      "Train Corrects: Top-1: 52.93%, 4m,51s\n",
      "Soft Comp: 0.990, Hard Comp: 1.000\n",
      "Last Tower Test  Corrects: Top-1: 62.58%, 16.02s\n",
      "\n",
      "\u001b[31mAdjusting lr to 0.009999383162408303\u001b[0m\n",
      "12/10/2019 12:31 PM\n",
      "Train Epoch: 3   [12512 /50000  (100%)]\tPer Epoch: 3m,28s , Alloc: 7.60GiB  , Data T: 1.159 , Op T: 285.516\n",
      "Train Corrects: Top-1: 56.35%, 4m,47s\n",
      "Soft Comp: 0.983, Hard Comp: 1.000\n",
      "Last Tower Test  Corrects: Top-1: 66.15%, 16.00s\n",
      "\n",
      "\u001b[31mAdjusting lr to 0.009998903417374227\u001b[0m\n",
      "12/10/2019 12:36 PM\n",
      "Train Epoch: 4   [12512 /50000  (100%)]\tPer Epoch: 3m,23s , Alloc: 7.60GiB  , Data T: 1.167 , Op T: 286.069\n",
      "Train Corrects: Top-1: 58.82%, 4m,47s\n",
      "Soft Comp: 0.968, Hard Comp: 1.000\n",
      "Last Tower Test  Corrects: Top-1: 68.66%, 16.02s\n",
      "\n",
      "\u001b[31mAdjusting lr to 0.009998286624877785\u001b[0m\n",
      "12/10/2019 12:41 PM\n",
      "Train Epoch: 5   [12512 /50000  (100%)]\tPer Epoch: 3m,40s , Alloc: 7.60GiB  , Data T: 1.161 , Op T: 285.809\n",
      "Train Corrects: Top-1: 60.33%, 4m,47s\n",
      "Soft Comp: 0.973, Hard Comp: 1.000\n",
      "Last Tower Test  Corrects: Top-1: 64.81%, 16.05s\n",
      "\n",
      "\u001b[31mAdjusting lr to 0.009997532801828659\u001b[0m\n",
      "12/10/2019 12:46 PM\n",
      "Train Epoch: 6   [12512 /50000  (100%)]\tPer Epoch: 3m,28s , Alloc: 7.60GiB  , Data T: 1.182 , Op T: 285.796\n",
      "Train Corrects: Top-1: 61.88%, 4m,47s\n",
      "Soft Comp: 0.967, Hard Comp: 1.000\n",
      "Last Tower Test  Corrects: Top-1: 70.75%, 16.02s\n",
      "\n",
      "\u001b[31mAdjusting lr to 0.00999664196889328\u001b[0m\n",
      "12/10/2019 12:51 PM\n",
      "Train Epoch: 7   [12512 /50000  (100%)]\tPer Epoch: 3m,26s , Alloc: 7.60GiB  , Data T: 1.166 , Op T: 285.718\n",
      "Train Corrects: Top-1: 63.51%, 4m,47s\n",
      "Soft Comp: 0.954, Hard Comp: 1.000\n",
      "Last Tower Test  Corrects: Top-1: 70.26%, 16.03s\n",
      "\n",
      "\u001b[31mAdjusting lr to 0.009995614150494292\u001b[0m\n",
      "12/10/2019 12:56 PM\n",
      "Train Epoch: 8   [12512 /50000  (100%)]\tPer Epoch: 3m,31s , Alloc: 7.60GiB  , Data T: 1.160 , Op T: 285.893\n",
      "Train Corrects: Top-1: 64.40%, 4m,47s\n",
      "Soft Comp: 0.947, Hard Comp: 1.000\n",
      "Last Tower Test  Corrects: Top-1: 70.26%, 16.05s\n",
      "\n",
      "\u001b[31mAdjusting lr to 0.00999444937480985\u001b[0m\n",
      "12/10/2019 01:01 PM\n",
      "Train Epoch: 9   [12512 /50000  (100%)]\tPer Epoch: 3m,25s , Alloc: 7.60GiB  , Data T: 1.171 , Op T: 285.748\n",
      "Train Corrects: Top-1: 65.86%, 4m,47s\n",
      "Soft Comp: 0.957, Hard Comp: 1.000\n",
      "Last Tower Test  Corrects: Top-1: 73.46%, 16.00s\n",
      "\n",
      "\u001b[31mAdjusting lr to 0.009993147673772868\u001b[0m\n",
      "12/10/2019 01:06 PM\n",
      "Train Epoch: 10  [12512 /50000  (100%)]\tPer Epoch: 3m,25s , Alloc: 7.60GiB  , Data T: 1.173 , Op T: 285.961\n",
      "Train Corrects: Top-1: 66.20%, 4m,47s\n",
      "Soft Comp: 0.942, Hard Comp: 1.000\n",
      "Last Tower Test  Corrects: Top-1: 73.78%, 15.96s\n",
      "\n",
      "\u001b[31mAdjusting lr to 0.009991709083070142\u001b[0m\n",
      "12/10/2019 01:11 PM\n",
      "Train Epoch: 11  [12512 /50000  (100%)]\tPer Epoch: 2m,54s , Alloc: 7.60GiB  , Data T: 1.179 , Op T: 285.923\n",
      "Train Corrects: Top-1: 67.73%, 4m,47s\n",
      "Soft Comp: 0.933, Hard Comp: 1.000\n",
      "Last Tower Test  Corrects: Top-1: 72.53%, 16.01s\n",
      "\n",
      "\u001b[31mAdjusting lr to 0.009990133642141357\u001b[0m\n",
      "12/10/2019 01:16 PM\n",
      "Train Epoch: 12  [12512 /50000  (100%)]\tPer Epoch: 3m,19s , Alloc: 7.60GiB  , Data T: 1.167 , Op T: 287.602\n",
      "Train Corrects: Top-1: 68.48%, 4m,49s\n",
      "Soft Comp: 0.915, Hard Comp: 1.000\n",
      "Last Tower Test  Corrects: Top-1: 73.36%, 16.28s\n",
      "\n",
      "\u001b[31mAdjusting lr to 0.009988421394178026\u001b[0m\n",
      "12/10/2019 01:21 PM\n",
      "Train Epoch: 13  [42944 /50000  (86%)]\tPer Epoch: 4m,51s , Alloc: 7.60GiB  , Data T: 0.992 , Op T: 248.052\r"
     ]
    },
    {
     "ename": "KeyboardInterrupt",
     "evalue": "",
     "output_type": "error",
     "traceback": [
      "\u001b[0;31m---------------------------------------------------------------------------\u001b[0m",
      "\u001b[0;31mKeyboardInterrupt\u001b[0m                         Traceback (most recent call last)",
      "\u001b[0;32m<ipython-input-28-a248d9a0b07e>\u001b[0m in \u001b[0;36m<module>\u001b[0;34m\u001b[0m\n\u001b[1;32m     18\u001b[0m \u001b[0;34m\u001b[0m\u001b[0m\n\u001b[1;32m     19\u001b[0m         \u001b[0;31m#learn+prune\u001b[0m\u001b[0;34m\u001b[0m\u001b[0;34m\u001b[0m\u001b[0;34m\u001b[0m\u001b[0m\n\u001b[0;32m---> 20\u001b[0;31m         \u001b[0mfull_train\u001b[0m\u001b[0;34m(\u001b[0m\u001b[0mmodel\u001b[0m\u001b[0;34m,\u001b[0m \u001b[0mepochs\u001b[0m\u001b[0;34m,\u001b[0m \u001b[0mcomp_lambdas\u001b[0m\u001b[0;34m=\u001b[0m\u001b[0mcomp_lambdas\u001b[0m\u001b[0;34m,\u001b[0m \u001b[0mcomp_ratio\u001b[0m\u001b[0;34m=\u001b[0m\u001b[0maim\u001b[0m\u001b[0;34m,\u001b[0m \u001b[0mprune_interval\u001b[0m\u001b[0;34m=\u001b[0m\u001b[0mnas_schedule\u001b[0m\u001b[0;34m[\u001b[0m\u001b[0;34m'prune_interval'\u001b[0m\u001b[0;34m]\u001b[0m\u001b[0;34m)\u001b[0m\u001b[0;34m\u001b[0m\u001b[0;34m\u001b[0m\u001b[0m\n\u001b[0m\u001b[1;32m     21\u001b[0m         \u001b[0mclean\u001b[0m\u001b[0;34m(\u001b[0m\u001b[0mverbose\u001b[0m\u001b[0;34m=\u001b[0m\u001b[0;32mFalse\u001b[0m\u001b[0;34m)\u001b[0m\u001b[0;34m\u001b[0m\u001b[0;34m\u001b[0m\u001b[0m\n\u001b[1;32m     22\u001b[0m         \u001b[0mhard_comp\u001b[0m \u001b[0;34m=\u001b[0m \u001b[0mmodel\u001b[0m\u001b[0;34m.\u001b[0m\u001b[0mgenotype_compression\u001b[0m\u001b[0;34m(\u001b[0m\u001b[0;34m)\u001b[0m\u001b[0;34m[\u001b[0m\u001b[0;36m1\u001b[0m\u001b[0;34m]\u001b[0m\u001b[0;34m\u001b[0m\u001b[0;34m\u001b[0m\u001b[0m\n",
      "\u001b[0;32m~/Documents/Programming/Python/bonsai_net/bonsai/trainers.py\u001b[0m in \u001b[0;36mfull_train\u001b[0;34m(model, epochs, **kwargs)\u001b[0m\n\u001b[1;32m    268\u001b[0m \u001b[0;34m\u001b[0m\u001b[0m\n\u001b[1;32m    269\u001b[0m         \u001b[0;31m# train =========================\u001b[0m\u001b[0;34m\u001b[0m\u001b[0;34m\u001b[0m\u001b[0;34m\u001b[0m\u001b[0m\n\u001b[0;32m--> 270\u001b[0;31m         \u001b[0mtrain\u001b[0m\u001b[0;34m(\u001b[0m\u001b[0mmodel\u001b[0m\u001b[0;34m,\u001b[0m \u001b[0mdevice\u001b[0m\u001b[0;34m,\u001b[0m \u001b[0mtrain_loader\u001b[0m\u001b[0;34m,\u001b[0m \u001b[0mcriterion\u001b[0m\u001b[0;34m=\u001b[0m\u001b[0mcriterion\u001b[0m\u001b[0;34m,\u001b[0m \u001b[0moptimizer\u001b[0m\u001b[0;34m=\u001b[0m\u001b[0moptimizer\u001b[0m\u001b[0;34m,\u001b[0m \u001b[0mepoch\u001b[0m\u001b[0;34m=\u001b[0m\u001b[0mepoch\u001b[0m\u001b[0;34m,\u001b[0m \u001b[0;34m**\u001b[0m\u001b[0mkwargs\u001b[0m\u001b[0;34m)\u001b[0m\u001b[0;34m\u001b[0m\u001b[0;34m\u001b[0m\u001b[0m\n\u001b[0m\u001b[1;32m    271\u001b[0m         \u001b[0mmodel\u001b[0m\u001b[0;34m.\u001b[0m\u001b[0msave_genotype\u001b[0m\u001b[0;34m(\u001b[0m\u001b[0;34m)\u001b[0m\u001b[0;34m\u001b[0m\u001b[0;34m\u001b[0m\u001b[0m\n\u001b[1;32m    272\u001b[0m \u001b[0;34m\u001b[0m\u001b[0m\n",
      "\u001b[0;32m~/Documents/Programming/Python/bonsai_net/bonsai/trainers.py\u001b[0m in \u001b[0;36mtrain\u001b[0;34m(model, device, train_loader, **kwargs)\u001b[0m\n\u001b[1;32m    121\u001b[0m \u001b[0;34m\u001b[0m\u001b[0m\n\u001b[1;32m    122\u001b[0m         \u001b[0mverbose\u001b[0m \u001b[0;34m=\u001b[0m \u001b[0mkwargs\u001b[0m\u001b[0;34m[\u001b[0m\u001b[0;34m'epoch'\u001b[0m\u001b[0;34m]\u001b[0m \u001b[0;34m==\u001b[0m \u001b[0;36m0\u001b[0m \u001b[0;32mand\u001b[0m \u001b[0mbatch_idx\u001b[0m \u001b[0;34m==\u001b[0m \u001b[0;36m0\u001b[0m\u001b[0;34m\u001b[0m\u001b[0;34m\u001b[0m\u001b[0m\n\u001b[0;32m--> 123\u001b[0;31m         \u001b[0moutputs\u001b[0m \u001b[0;34m=\u001b[0m \u001b[0mmodel\u001b[0m\u001b[0;34m.\u001b[0m\u001b[0mforward\u001b[0m\u001b[0;34m(\u001b[0m\u001b[0mdata\u001b[0m\u001b[0;34m,\u001b[0m \u001b[0mmodel\u001b[0m\u001b[0;34m.\u001b[0m\u001b[0mdrop_prob\u001b[0m\u001b[0;34m,\u001b[0m \u001b[0mauxiliary\u001b[0m\u001b[0;34m=\u001b[0m\u001b[0;32mTrue\u001b[0m\u001b[0;34m,\u001b[0m \u001b[0mverbose\u001b[0m\u001b[0;34m=\u001b[0m\u001b[0mverbose\u001b[0m\u001b[0;34m)\u001b[0m\u001b[0;34m\u001b[0m\u001b[0;34m\u001b[0m\u001b[0m\n\u001b[0m\u001b[1;32m    124\u001b[0m \u001b[0;34m\u001b[0m\u001b[0m\n\u001b[1;32m    125\u001b[0m         \u001b[0;31m# classification loss =================\u001b[0m\u001b[0;34m\u001b[0m\u001b[0;34m\u001b[0m\u001b[0;34m\u001b[0m\u001b[0m\n",
      "\u001b[0;32m~/Documents/Programming/Python/bonsai_net/bonsai/net.py\u001b[0m in \u001b[0;36mforward\u001b[0;34m(self, x, drop_prob, auxiliary, verbose)\u001b[0m\n\u001b[1;32m    156\u001b[0m             \u001b[0mself\u001b[0m\u001b[0;34m.\u001b[0m\u001b[0mjn_print\u001b[0m\u001b[0;34m(\u001b[0m\u001b[0;34m\"Init: {}\"\u001b[0m\u001b[0;34m.\u001b[0m\u001b[0mformat\u001b[0m\u001b[0;34m(\u001b[0m\u001b[0mmem_stats\u001b[0m\u001b[0;34m(\u001b[0m\u001b[0;34m)\u001b[0m\u001b[0;34m)\u001b[0m\u001b[0;34m)\u001b[0m\u001b[0;34m\u001b[0m\u001b[0;34m\u001b[0m\u001b[0m\n\u001b[1;32m    157\u001b[0m         \u001b[0;32mfor\u001b[0m \u001b[0mi\u001b[0m \u001b[0;32min\u001b[0m \u001b[0mrange\u001b[0m\u001b[0;34m(\u001b[0m\u001b[0mlen\u001b[0m\u001b[0;34m(\u001b[0m\u001b[0mself\u001b[0m\u001b[0;34m.\u001b[0m\u001b[0mcells\u001b[0m\u001b[0;34m)\u001b[0m\u001b[0;34m)\u001b[0m\u001b[0;34m:\u001b[0m\u001b[0;34m\u001b[0m\u001b[0;34m\u001b[0m\u001b[0m\n\u001b[0;32m--> 158\u001b[0;31m             \u001b[0mx\u001b[0m \u001b[0;34m=\u001b[0m \u001b[0mself\u001b[0m\u001b[0;34m.\u001b[0m\u001b[0mcells\u001b[0m\u001b[0;34m[\u001b[0m\u001b[0mi\u001b[0m\u001b[0;34m]\u001b[0m\u001b[0;34m.\u001b[0m\u001b[0mforward\u001b[0m\u001b[0;34m(\u001b[0m\u001b[0mxs\u001b[0m\u001b[0;34m,\u001b[0m \u001b[0mdrop_prob\u001b[0m\u001b[0;34m)\u001b[0m\u001b[0;34m\u001b[0m\u001b[0;34m\u001b[0m\u001b[0m\n\u001b[0m\u001b[1;32m    159\u001b[0m             \u001b[0;32mif\u001b[0m \u001b[0mverbose\u001b[0m\u001b[0;34m:\u001b[0m\u001b[0;34m\u001b[0m\u001b[0;34m\u001b[0m\u001b[0m\n\u001b[1;32m    160\u001b[0m                 \u001b[0mself\u001b[0m\u001b[0;34m.\u001b[0m\u001b[0mjn_print\u001b[0m\u001b[0;34m(\u001b[0m\u001b[0;34m\"{}: {}\"\u001b[0m\u001b[0;34m.\u001b[0m\u001b[0mformat\u001b[0m\u001b[0;34m(\u001b[0m\u001b[0mi\u001b[0m\u001b[0;34m,\u001b[0m \u001b[0mmem_stats\u001b[0m\u001b[0;34m(\u001b[0m\u001b[0;34m)\u001b[0m\u001b[0;34m)\u001b[0m\u001b[0;34m)\u001b[0m\u001b[0;34m\u001b[0m\u001b[0;34m\u001b[0m\u001b[0m\n",
      "\u001b[0;32m~/Documents/Programming/Python/bonsai_net/bonsai/cell.py\u001b[0m in \u001b[0;36mforward\u001b[0;34m(self, xs, drop_prob)\u001b[0m\n\u001b[1;32m     91\u001b[0m             \u001b[0;32melse\u001b[0m\u001b[0;34m:\u001b[0m\u001b[0;34m\u001b[0m\u001b[0;34m\u001b[0m\u001b[0m\n\u001b[1;32m     92\u001b[0m                 \u001b[0;32mfor\u001b[0m \u001b[0mkey\u001b[0m \u001b[0;32min\u001b[0m \u001b[0mself\u001b[0m\u001b[0;34m.\u001b[0m\u001b[0mkeys_by_origin\u001b[0m\u001b[0;34m[\u001b[0m\u001b[0mnode\u001b[0m\u001b[0;34m]\u001b[0m\u001b[0;34m:\u001b[0m\u001b[0;34m\u001b[0m\u001b[0;34m\u001b[0m\u001b[0m\n\u001b[0;32m---> 93\u001b[0;31m                     \u001b[0mouts\u001b[0m\u001b[0;34m[\u001b[0m\u001b[0mkey\u001b[0m\u001b[0;34m]\u001b[0m \u001b[0;34m=\u001b[0m \u001b[0mself\u001b[0m\u001b[0;34m.\u001b[0m\u001b[0medges\u001b[0m\u001b[0;34m[\u001b[0m\u001b[0mkey\u001b[0m\u001b[0;34m]\u001b[0m\u001b[0;34m(\u001b[0m\u001b[0mnode_in\u001b[0m\u001b[0;34m,\u001b[0m \u001b[0mdrop_prob\u001b[0m\u001b[0;34m)\u001b[0m\u001b[0;34m\u001b[0m\u001b[0;34m\u001b[0m\u001b[0m\n\u001b[0m\u001b[1;32m     94\u001b[0m \u001b[0;34m\u001b[0m\u001b[0m\n\u001b[1;32m     95\u001b[0m     \u001b[0;32mdef\u001b[0m \u001b[0mgenotype_compression\u001b[0m\u001b[0;34m(\u001b[0m\u001b[0mself\u001b[0m\u001b[0;34m,\u001b[0m \u001b[0msoft_ops\u001b[0m\u001b[0;34m=\u001b[0m\u001b[0;36m0\u001b[0m\u001b[0;34m,\u001b[0m \u001b[0mhard_ops\u001b[0m\u001b[0;34m=\u001b[0m\u001b[0;36m0\u001b[0m\u001b[0;34m,\u001b[0m \u001b[0mused_ratio\u001b[0m\u001b[0;34m=\u001b[0m\u001b[0;32mFalse\u001b[0m\u001b[0;34m)\u001b[0m\u001b[0;34m:\u001b[0m\u001b[0;34m\u001b[0m\u001b[0;34m\u001b[0m\u001b[0m\n",
      "\u001b[0;32m~/.local/lib/python3.6/site-packages/torch/nn/modules/module.py\u001b[0m in \u001b[0;36m__call__\u001b[0;34m(self, *input, **kwargs)\u001b[0m\n\u001b[1;32m    545\u001b[0m             \u001b[0mresult\u001b[0m \u001b[0;34m=\u001b[0m \u001b[0mself\u001b[0m\u001b[0;34m.\u001b[0m\u001b[0m_slow_forward\u001b[0m\u001b[0;34m(\u001b[0m\u001b[0;34m*\u001b[0m\u001b[0minput\u001b[0m\u001b[0;34m,\u001b[0m \u001b[0;34m**\u001b[0m\u001b[0mkwargs\u001b[0m\u001b[0;34m)\u001b[0m\u001b[0;34m\u001b[0m\u001b[0;34m\u001b[0m\u001b[0m\n\u001b[1;32m    546\u001b[0m         \u001b[0;32melse\u001b[0m\u001b[0;34m:\u001b[0m\u001b[0;34m\u001b[0m\u001b[0;34m\u001b[0m\u001b[0m\n\u001b[0;32m--> 547\u001b[0;31m             \u001b[0mresult\u001b[0m \u001b[0;34m=\u001b[0m \u001b[0mself\u001b[0m\u001b[0;34m.\u001b[0m\u001b[0mforward\u001b[0m\u001b[0;34m(\u001b[0m\u001b[0;34m*\u001b[0m\u001b[0minput\u001b[0m\u001b[0;34m,\u001b[0m \u001b[0;34m**\u001b[0m\u001b[0mkwargs\u001b[0m\u001b[0;34m)\u001b[0m\u001b[0;34m\u001b[0m\u001b[0;34m\u001b[0m\u001b[0m\n\u001b[0m\u001b[1;32m    548\u001b[0m         \u001b[0;32mfor\u001b[0m \u001b[0mhook\u001b[0m \u001b[0;32min\u001b[0m \u001b[0mself\u001b[0m\u001b[0;34m.\u001b[0m\u001b[0m_forward_hooks\u001b[0m\u001b[0;34m.\u001b[0m\u001b[0mvalues\u001b[0m\u001b[0;34m(\u001b[0m\u001b[0;34m)\u001b[0m\u001b[0;34m:\u001b[0m\u001b[0;34m\u001b[0m\u001b[0;34m\u001b[0m\u001b[0m\n\u001b[1;32m    549\u001b[0m             \u001b[0mhook_result\u001b[0m \u001b[0;34m=\u001b[0m \u001b[0mhook\u001b[0m\u001b[0;34m(\u001b[0m\u001b[0mself\u001b[0m\u001b[0;34m,\u001b[0m \u001b[0minput\u001b[0m\u001b[0;34m,\u001b[0m \u001b[0mresult\u001b[0m\u001b[0;34m)\u001b[0m\u001b[0;34m\u001b[0m\u001b[0;34m\u001b[0m\u001b[0m\n",
      "\u001b[0;32m~/Documents/Programming/Python/bonsai_net/bonsai/edge.py\u001b[0m in \u001b[0;36mforward\u001b[0;34m(self, x, drop_prob)\u001b[0m\n\u001b[1;32m     86\u001b[0m     \u001b[0;32mdef\u001b[0m \u001b[0mforward\u001b[0m\u001b[0;34m(\u001b[0m\u001b[0mself\u001b[0m\u001b[0;34m,\u001b[0m \u001b[0mx\u001b[0m\u001b[0;34m,\u001b[0m \u001b[0mdrop_prob\u001b[0m\u001b[0;34m)\u001b[0m\u001b[0;34m:\u001b[0m\u001b[0;34m\u001b[0m\u001b[0;34m\u001b[0m\u001b[0m\n\u001b[1;32m     87\u001b[0m         \u001b[0;32mif\u001b[0m \u001b[0mself\u001b[0m\u001b[0;34m.\u001b[0m\u001b[0mnum_ops\u001b[0m\u001b[0;34m:\u001b[0m\u001b[0;34m\u001b[0m\u001b[0;34m\u001b[0m\u001b[0m\n\u001b[0;32m---> 88\u001b[0;31m             \u001b[0msummed\u001b[0m \u001b[0;34m=\u001b[0m \u001b[0mself\u001b[0m\u001b[0;34m.\u001b[0m\u001b[0mnormalizer\u001b[0m\u001b[0;34m(\u001b[0m\u001b[0msum\u001b[0m\u001b[0;34m(\u001b[0m\u001b[0;34m[\u001b[0m\u001b[0mop\u001b[0m\u001b[0;34m(\u001b[0m\u001b[0mx\u001b[0m\u001b[0;34m)\u001b[0m \u001b[0;32mfor\u001b[0m \u001b[0mop\u001b[0m \u001b[0;32min\u001b[0m \u001b[0mself\u001b[0m\u001b[0;34m.\u001b[0m\u001b[0mops\u001b[0m\u001b[0;34m]\u001b[0m\u001b[0;34m)\u001b[0m\u001b[0;34m)\u001b[0m\u001b[0;34m\u001b[0m\u001b[0;34m\u001b[0m\u001b[0m\n\u001b[0m\u001b[1;32m     89\u001b[0m         \u001b[0;32melse\u001b[0m\u001b[0;34m:\u001b[0m\u001b[0;34m\u001b[0m\u001b[0;34m\u001b[0m\u001b[0m\n\u001b[1;32m     90\u001b[0m             \u001b[0;31m# zero out input directly\u001b[0m\u001b[0;34m\u001b[0m\u001b[0;34m\u001b[0m\u001b[0;34m\u001b[0m\u001b[0m\n",
      "\u001b[0;32m~/Documents/Programming/Python/bonsai_net/bonsai/edge.py\u001b[0m in \u001b[0;36m<listcomp>\u001b[0;34m(.0)\u001b[0m\n\u001b[1;32m     86\u001b[0m     \u001b[0;32mdef\u001b[0m \u001b[0mforward\u001b[0m\u001b[0;34m(\u001b[0m\u001b[0mself\u001b[0m\u001b[0;34m,\u001b[0m \u001b[0mx\u001b[0m\u001b[0;34m,\u001b[0m \u001b[0mdrop_prob\u001b[0m\u001b[0;34m)\u001b[0m\u001b[0;34m:\u001b[0m\u001b[0;34m\u001b[0m\u001b[0;34m\u001b[0m\u001b[0m\n\u001b[1;32m     87\u001b[0m         \u001b[0;32mif\u001b[0m \u001b[0mself\u001b[0m\u001b[0;34m.\u001b[0m\u001b[0mnum_ops\u001b[0m\u001b[0;34m:\u001b[0m\u001b[0;34m\u001b[0m\u001b[0;34m\u001b[0m\u001b[0m\n\u001b[0;32m---> 88\u001b[0;31m             \u001b[0msummed\u001b[0m \u001b[0;34m=\u001b[0m \u001b[0mself\u001b[0m\u001b[0;34m.\u001b[0m\u001b[0mnormalizer\u001b[0m\u001b[0;34m(\u001b[0m\u001b[0msum\u001b[0m\u001b[0;34m(\u001b[0m\u001b[0;34m[\u001b[0m\u001b[0mop\u001b[0m\u001b[0;34m(\u001b[0m\u001b[0mx\u001b[0m\u001b[0;34m)\u001b[0m \u001b[0;32mfor\u001b[0m \u001b[0mop\u001b[0m \u001b[0;32min\u001b[0m \u001b[0mself\u001b[0m\u001b[0;34m.\u001b[0m\u001b[0mops\u001b[0m\u001b[0;34m]\u001b[0m\u001b[0;34m)\u001b[0m\u001b[0;34m)\u001b[0m\u001b[0;34m\u001b[0m\u001b[0;34m\u001b[0m\u001b[0m\n\u001b[0m\u001b[1;32m     89\u001b[0m         \u001b[0;32melse\u001b[0m\u001b[0;34m:\u001b[0m\u001b[0;34m\u001b[0m\u001b[0;34m\u001b[0m\u001b[0m\n\u001b[1;32m     90\u001b[0m             \u001b[0;31m# zero out input directly\u001b[0m\u001b[0;34m\u001b[0m\u001b[0;34m\u001b[0m\u001b[0;34m\u001b[0m\u001b[0m\n",
      "\u001b[0;32m~/.local/lib/python3.6/site-packages/torch/nn/modules/module.py\u001b[0m in \u001b[0;36m__call__\u001b[0;34m(self, *input, **kwargs)\u001b[0m\n\u001b[1;32m    545\u001b[0m             \u001b[0mresult\u001b[0m \u001b[0;34m=\u001b[0m \u001b[0mself\u001b[0m\u001b[0;34m.\u001b[0m\u001b[0m_slow_forward\u001b[0m\u001b[0;34m(\u001b[0m\u001b[0;34m*\u001b[0m\u001b[0minput\u001b[0m\u001b[0;34m,\u001b[0m \u001b[0;34m**\u001b[0m\u001b[0mkwargs\u001b[0m\u001b[0;34m)\u001b[0m\u001b[0;34m\u001b[0m\u001b[0;34m\u001b[0m\u001b[0m\n\u001b[1;32m    546\u001b[0m         \u001b[0;32melse\u001b[0m\u001b[0;34m:\u001b[0m\u001b[0;34m\u001b[0m\u001b[0;34m\u001b[0m\u001b[0m\n\u001b[0;32m--> 547\u001b[0;31m             \u001b[0mresult\u001b[0m \u001b[0;34m=\u001b[0m \u001b[0mself\u001b[0m\u001b[0;34m.\u001b[0m\u001b[0mforward\u001b[0m\u001b[0;34m(\u001b[0m\u001b[0;34m*\u001b[0m\u001b[0minput\u001b[0m\u001b[0;34m,\u001b[0m \u001b[0;34m**\u001b[0m\u001b[0mkwargs\u001b[0m\u001b[0;34m)\u001b[0m\u001b[0;34m\u001b[0m\u001b[0;34m\u001b[0m\u001b[0m\n\u001b[0m\u001b[1;32m    548\u001b[0m         \u001b[0;32mfor\u001b[0m \u001b[0mhook\u001b[0m \u001b[0;32min\u001b[0m \u001b[0mself\u001b[0m\u001b[0;34m.\u001b[0m\u001b[0m_forward_hooks\u001b[0m\u001b[0;34m.\u001b[0m\u001b[0mvalues\u001b[0m\u001b[0;34m(\u001b[0m\u001b[0;34m)\u001b[0m\u001b[0;34m:\u001b[0m\u001b[0;34m\u001b[0m\u001b[0;34m\u001b[0m\u001b[0m\n\u001b[1;32m    549\u001b[0m             \u001b[0mhook_result\u001b[0m \u001b[0;34m=\u001b[0m \u001b[0mhook\u001b[0m\u001b[0;34m(\u001b[0m\u001b[0mself\u001b[0m\u001b[0;34m,\u001b[0m \u001b[0minput\u001b[0m\u001b[0;34m,\u001b[0m \u001b[0mresult\u001b[0m\u001b[0;34m)\u001b[0m\u001b[0;34m\u001b[0m\u001b[0;34m\u001b[0m\u001b[0m\n",
      "\u001b[0;32m~/Documents/Programming/Python/bonsai_net/bonsai/ops.py\u001b[0m in \u001b[0;36mforward\u001b[0;34m(self, x)\u001b[0m\n\u001b[1;32m    172\u001b[0m     \u001b[0;32mdef\u001b[0m \u001b[0mforward\u001b[0m\u001b[0;34m(\u001b[0m\u001b[0mself\u001b[0m\u001b[0;34m,\u001b[0m \u001b[0mx\u001b[0m\u001b[0;34m)\u001b[0m\u001b[0;34m:\u001b[0m\u001b[0;34m\u001b[0m\u001b[0;34m\u001b[0m\u001b[0m\n\u001b[1;32m    173\u001b[0m         \u001b[0;32mif\u001b[0m \u001b[0mself\u001b[0m\u001b[0;34m.\u001b[0m\u001b[0mprune\u001b[0m\u001b[0;34m:\u001b[0m\u001b[0;34m\u001b[0m\u001b[0;34m\u001b[0m\u001b[0m\n\u001b[0;32m--> 174\u001b[0;31m             \u001b[0mout\u001b[0m \u001b[0;34m=\u001b[0m \u001b[0mself\u001b[0m\u001b[0;34m.\u001b[0m\u001b[0mop\u001b[0m\u001b[0;34m(\u001b[0m\u001b[0mx\u001b[0m\u001b[0;34m)\u001b[0m \u001b[0;32mif\u001b[0m \u001b[0mself\u001b[0m\u001b[0;34m.\u001b[0m\u001b[0mzero\u001b[0m \u001b[0;32melse\u001b[0m \u001b[0mself\u001b[0m\u001b[0;34m.\u001b[0m\u001b[0mpruner\u001b[0m\u001b[0;34m(\u001b[0m\u001b[0mself\u001b[0m\u001b[0;34m.\u001b[0m\u001b[0mop\u001b[0m\u001b[0;34m(\u001b[0m\u001b[0mx\u001b[0m\u001b[0;34m)\u001b[0m\u001b[0;34m)\u001b[0m\u001b[0;34m\u001b[0m\u001b[0;34m\u001b[0m\u001b[0m\n\u001b[0m\u001b[1;32m    175\u001b[0m         \u001b[0;32melse\u001b[0m\u001b[0;34m:\u001b[0m\u001b[0;34m\u001b[0m\u001b[0;34m\u001b[0m\u001b[0m\n\u001b[1;32m    176\u001b[0m             \u001b[0mout\u001b[0m \u001b[0;34m=\u001b[0m \u001b[0mself\u001b[0m\u001b[0;34m.\u001b[0m\u001b[0mop\u001b[0m\u001b[0;34m(\u001b[0m\u001b[0mx\u001b[0m\u001b[0;34m)\u001b[0m\u001b[0;34m\u001b[0m\u001b[0;34m\u001b[0m\u001b[0m\n",
      "\u001b[0;32m~/.local/lib/python3.6/site-packages/torch/nn/modules/module.py\u001b[0m in \u001b[0;36m__call__\u001b[0;34m(self, *input, **kwargs)\u001b[0m\n\u001b[1;32m    545\u001b[0m             \u001b[0mresult\u001b[0m \u001b[0;34m=\u001b[0m \u001b[0mself\u001b[0m\u001b[0;34m.\u001b[0m\u001b[0m_slow_forward\u001b[0m\u001b[0;34m(\u001b[0m\u001b[0;34m*\u001b[0m\u001b[0minput\u001b[0m\u001b[0;34m,\u001b[0m \u001b[0;34m**\u001b[0m\u001b[0mkwargs\u001b[0m\u001b[0;34m)\u001b[0m\u001b[0;34m\u001b[0m\u001b[0;34m\u001b[0m\u001b[0m\n\u001b[1;32m    546\u001b[0m         \u001b[0;32melse\u001b[0m\u001b[0;34m:\u001b[0m\u001b[0;34m\u001b[0m\u001b[0;34m\u001b[0m\u001b[0m\n\u001b[0;32m--> 547\u001b[0;31m             \u001b[0mresult\u001b[0m \u001b[0;34m=\u001b[0m \u001b[0mself\u001b[0m\u001b[0;34m.\u001b[0m\u001b[0mforward\u001b[0m\u001b[0;34m(\u001b[0m\u001b[0;34m*\u001b[0m\u001b[0minput\u001b[0m\u001b[0;34m,\u001b[0m \u001b[0;34m**\u001b[0m\u001b[0mkwargs\u001b[0m\u001b[0;34m)\u001b[0m\u001b[0;34m\u001b[0m\u001b[0;34m\u001b[0m\u001b[0m\n\u001b[0m\u001b[1;32m    548\u001b[0m         \u001b[0;32mfor\u001b[0m \u001b[0mhook\u001b[0m \u001b[0;32min\u001b[0m \u001b[0mself\u001b[0m\u001b[0;34m.\u001b[0m\u001b[0m_forward_hooks\u001b[0m\u001b[0;34m.\u001b[0m\u001b[0mvalues\u001b[0m\u001b[0;34m(\u001b[0m\u001b[0;34m)\u001b[0m\u001b[0;34m:\u001b[0m\u001b[0;34m\u001b[0m\u001b[0;34m\u001b[0m\u001b[0m\n\u001b[1;32m    549\u001b[0m             \u001b[0mhook_result\u001b[0m \u001b[0;34m=\u001b[0m \u001b[0mhook\u001b[0m\u001b[0;34m(\u001b[0m\u001b[0mself\u001b[0m\u001b[0;34m,\u001b[0m \u001b[0minput\u001b[0m\u001b[0;34m,\u001b[0m \u001b[0mresult\u001b[0m\u001b[0;34m)\u001b[0m\u001b[0;34m\u001b[0m\u001b[0;34m\u001b[0m\u001b[0m\n",
      "\u001b[0;32m~/Documents/Programming/Python/bonsai_net/bonsai/ops.py\u001b[0m in \u001b[0;36mforward\u001b[0;34m(self, x)\u001b[0m\n\u001b[1;32m     43\u001b[0m \u001b[0;34m\u001b[0m\u001b[0m\n\u001b[1;32m     44\u001b[0m     \u001b[0;32mdef\u001b[0m \u001b[0mforward\u001b[0m\u001b[0;34m(\u001b[0m\u001b[0mself\u001b[0m\u001b[0;34m,\u001b[0m \u001b[0mx\u001b[0m\u001b[0;34m)\u001b[0m\u001b[0;34m:\u001b[0m\u001b[0;34m\u001b[0m\u001b[0;34m\u001b[0m\u001b[0m\n\u001b[0;32m---> 45\u001b[0;31m         \u001b[0;32mreturn\u001b[0m \u001b[0mself\u001b[0m\u001b[0;34m.\u001b[0m\u001b[0mop\u001b[0m\u001b[0;34m(\u001b[0m\u001b[0mx\u001b[0m\u001b[0;34m)\u001b[0m\u001b[0;34m\u001b[0m\u001b[0;34m\u001b[0m\u001b[0m\n\u001b[0m\u001b[1;32m     46\u001b[0m \u001b[0;34m\u001b[0m\u001b[0m\n\u001b[1;32m     47\u001b[0m \u001b[0;34m\u001b[0m\u001b[0m\n",
      "\u001b[0;32m~/.local/lib/python3.6/site-packages/torch/nn/modules/module.py\u001b[0m in \u001b[0;36m__call__\u001b[0;34m(self, *input, **kwargs)\u001b[0m\n\u001b[1;32m    545\u001b[0m             \u001b[0mresult\u001b[0m \u001b[0;34m=\u001b[0m \u001b[0mself\u001b[0m\u001b[0;34m.\u001b[0m\u001b[0m_slow_forward\u001b[0m\u001b[0;34m(\u001b[0m\u001b[0;34m*\u001b[0m\u001b[0minput\u001b[0m\u001b[0;34m,\u001b[0m \u001b[0;34m**\u001b[0m\u001b[0mkwargs\u001b[0m\u001b[0;34m)\u001b[0m\u001b[0;34m\u001b[0m\u001b[0;34m\u001b[0m\u001b[0m\n\u001b[1;32m    546\u001b[0m         \u001b[0;32melse\u001b[0m\u001b[0;34m:\u001b[0m\u001b[0;34m\u001b[0m\u001b[0;34m\u001b[0m\u001b[0m\n\u001b[0;32m--> 547\u001b[0;31m             \u001b[0mresult\u001b[0m \u001b[0;34m=\u001b[0m \u001b[0mself\u001b[0m\u001b[0;34m.\u001b[0m\u001b[0mforward\u001b[0m\u001b[0;34m(\u001b[0m\u001b[0;34m*\u001b[0m\u001b[0minput\u001b[0m\u001b[0;34m,\u001b[0m \u001b[0;34m**\u001b[0m\u001b[0mkwargs\u001b[0m\u001b[0;34m)\u001b[0m\u001b[0;34m\u001b[0m\u001b[0;34m\u001b[0m\u001b[0m\n\u001b[0m\u001b[1;32m    548\u001b[0m         \u001b[0;32mfor\u001b[0m \u001b[0mhook\u001b[0m \u001b[0;32min\u001b[0m \u001b[0mself\u001b[0m\u001b[0;34m.\u001b[0m\u001b[0m_forward_hooks\u001b[0m\u001b[0;34m.\u001b[0m\u001b[0mvalues\u001b[0m\u001b[0;34m(\u001b[0m\u001b[0;34m)\u001b[0m\u001b[0;34m:\u001b[0m\u001b[0;34m\u001b[0m\u001b[0;34m\u001b[0m\u001b[0m\n\u001b[1;32m    549\u001b[0m             \u001b[0mhook_result\u001b[0m \u001b[0;34m=\u001b[0m \u001b[0mhook\u001b[0m\u001b[0;34m(\u001b[0m\u001b[0mself\u001b[0m\u001b[0;34m,\u001b[0m \u001b[0minput\u001b[0m\u001b[0;34m,\u001b[0m \u001b[0mresult\u001b[0m\u001b[0;34m)\u001b[0m\u001b[0;34m\u001b[0m\u001b[0;34m\u001b[0m\u001b[0m\n",
      "\u001b[0;32m~/.local/lib/python3.6/site-packages/torch/nn/modules/container.py\u001b[0m in \u001b[0;36mforward\u001b[0;34m(self, input)\u001b[0m\n\u001b[1;32m     90\u001b[0m     \u001b[0;32mdef\u001b[0m \u001b[0mforward\u001b[0m\u001b[0;34m(\u001b[0m\u001b[0mself\u001b[0m\u001b[0;34m,\u001b[0m \u001b[0minput\u001b[0m\u001b[0;34m)\u001b[0m\u001b[0;34m:\u001b[0m\u001b[0;34m\u001b[0m\u001b[0;34m\u001b[0m\u001b[0m\n\u001b[1;32m     91\u001b[0m         \u001b[0;32mfor\u001b[0m \u001b[0mmodule\u001b[0m \u001b[0;32min\u001b[0m \u001b[0mself\u001b[0m\u001b[0;34m.\u001b[0m\u001b[0m_modules\u001b[0m\u001b[0;34m.\u001b[0m\u001b[0mvalues\u001b[0m\u001b[0;34m(\u001b[0m\u001b[0;34m)\u001b[0m\u001b[0;34m:\u001b[0m\u001b[0;34m\u001b[0m\u001b[0;34m\u001b[0m\u001b[0m\n\u001b[0;32m---> 92\u001b[0;31m             \u001b[0minput\u001b[0m \u001b[0;34m=\u001b[0m \u001b[0mmodule\u001b[0m\u001b[0;34m(\u001b[0m\u001b[0minput\u001b[0m\u001b[0;34m)\u001b[0m\u001b[0;34m\u001b[0m\u001b[0;34m\u001b[0m\u001b[0m\n\u001b[0m\u001b[1;32m     93\u001b[0m         \u001b[0;32mreturn\u001b[0m \u001b[0minput\u001b[0m\u001b[0;34m\u001b[0m\u001b[0;34m\u001b[0m\u001b[0m\n\u001b[1;32m     94\u001b[0m \u001b[0;34m\u001b[0m\u001b[0m\n",
      "\u001b[0;32m~/.local/lib/python3.6/site-packages/torch/nn/modules/module.py\u001b[0m in \u001b[0;36m__call__\u001b[0;34m(self, *input, **kwargs)\u001b[0m\n\u001b[1;32m    545\u001b[0m             \u001b[0mresult\u001b[0m \u001b[0;34m=\u001b[0m \u001b[0mself\u001b[0m\u001b[0;34m.\u001b[0m\u001b[0m_slow_forward\u001b[0m\u001b[0;34m(\u001b[0m\u001b[0;34m*\u001b[0m\u001b[0minput\u001b[0m\u001b[0;34m,\u001b[0m \u001b[0;34m**\u001b[0m\u001b[0mkwargs\u001b[0m\u001b[0;34m)\u001b[0m\u001b[0;34m\u001b[0m\u001b[0;34m\u001b[0m\u001b[0m\n\u001b[1;32m    546\u001b[0m         \u001b[0;32melse\u001b[0m\u001b[0;34m:\u001b[0m\u001b[0;34m\u001b[0m\u001b[0;34m\u001b[0m\u001b[0m\n\u001b[0;32m--> 547\u001b[0;31m             \u001b[0mresult\u001b[0m \u001b[0;34m=\u001b[0m \u001b[0mself\u001b[0m\u001b[0;34m.\u001b[0m\u001b[0mforward\u001b[0m\u001b[0;34m(\u001b[0m\u001b[0;34m*\u001b[0m\u001b[0minput\u001b[0m\u001b[0;34m,\u001b[0m \u001b[0;34m**\u001b[0m\u001b[0mkwargs\u001b[0m\u001b[0;34m)\u001b[0m\u001b[0;34m\u001b[0m\u001b[0;34m\u001b[0m\u001b[0m\n\u001b[0m\u001b[1;32m    548\u001b[0m         \u001b[0;32mfor\u001b[0m \u001b[0mhook\u001b[0m \u001b[0;32min\u001b[0m \u001b[0mself\u001b[0m\u001b[0;34m.\u001b[0m\u001b[0m_forward_hooks\u001b[0m\u001b[0;34m.\u001b[0m\u001b[0mvalues\u001b[0m\u001b[0;34m(\u001b[0m\u001b[0;34m)\u001b[0m\u001b[0;34m:\u001b[0m\u001b[0;34m\u001b[0m\u001b[0;34m\u001b[0m\u001b[0m\n\u001b[1;32m    549\u001b[0m             \u001b[0mhook_result\u001b[0m \u001b[0;34m=\u001b[0m \u001b[0mhook\u001b[0m\u001b[0;34m(\u001b[0m\u001b[0mself\u001b[0m\u001b[0;34m,\u001b[0m \u001b[0minput\u001b[0m\u001b[0;34m,\u001b[0m \u001b[0mresult\u001b[0m\u001b[0;34m)\u001b[0m\u001b[0;34m\u001b[0m\u001b[0;34m\u001b[0m\u001b[0m\n",
      "\u001b[0;32m~/.local/lib/python3.6/site-packages/torch/nn/modules/conv.py\u001b[0m in \u001b[0;36mforward\u001b[0;34m(self, input)\u001b[0m\n\u001b[1;32m    341\u001b[0m \u001b[0;34m\u001b[0m\u001b[0m\n\u001b[1;32m    342\u001b[0m     \u001b[0;32mdef\u001b[0m \u001b[0mforward\u001b[0m\u001b[0;34m(\u001b[0m\u001b[0mself\u001b[0m\u001b[0;34m,\u001b[0m \u001b[0minput\u001b[0m\u001b[0;34m)\u001b[0m\u001b[0;34m:\u001b[0m\u001b[0;34m\u001b[0m\u001b[0;34m\u001b[0m\u001b[0m\n\u001b[0;32m--> 343\u001b[0;31m         \u001b[0;32mreturn\u001b[0m \u001b[0mself\u001b[0m\u001b[0;34m.\u001b[0m\u001b[0mconv2d_forward\u001b[0m\u001b[0;34m(\u001b[0m\u001b[0minput\u001b[0m\u001b[0;34m,\u001b[0m \u001b[0mself\u001b[0m\u001b[0;34m.\u001b[0m\u001b[0mweight\u001b[0m\u001b[0;34m)\u001b[0m\u001b[0;34m\u001b[0m\u001b[0;34m\u001b[0m\u001b[0m\n\u001b[0m\u001b[1;32m    344\u001b[0m \u001b[0;34m\u001b[0m\u001b[0m\n\u001b[1;32m    345\u001b[0m \u001b[0;32mclass\u001b[0m \u001b[0mConv3d\u001b[0m\u001b[0;34m(\u001b[0m\u001b[0m_ConvNd\u001b[0m\u001b[0;34m)\u001b[0m\u001b[0;34m:\u001b[0m\u001b[0;34m\u001b[0m\u001b[0;34m\u001b[0m\u001b[0m\n",
      "\u001b[0;32m~/.local/lib/python3.6/site-packages/torch/nn/modules/conv.py\u001b[0m in \u001b[0;36mconv2d_forward\u001b[0;34m(self, input, weight)\u001b[0m\n\u001b[1;32m    338\u001b[0m                             _pair(0), self.dilation, self.groups)\n\u001b[1;32m    339\u001b[0m         return F.conv2d(input, weight, self.bias, self.stride,\n\u001b[0;32m--> 340\u001b[0;31m                         self.padding, self.dilation, self.groups)\n\u001b[0m\u001b[1;32m    341\u001b[0m \u001b[0;34m\u001b[0m\u001b[0m\n\u001b[1;32m    342\u001b[0m     \u001b[0;32mdef\u001b[0m \u001b[0mforward\u001b[0m\u001b[0;34m(\u001b[0m\u001b[0mself\u001b[0m\u001b[0;34m,\u001b[0m \u001b[0minput\u001b[0m\u001b[0;34m)\u001b[0m\u001b[0;34m:\u001b[0m\u001b[0;34m\u001b[0m\u001b[0;34m\u001b[0m\u001b[0m\n",
      "\u001b[0;31mKeyboardInterrupt\u001b[0m: "
     ]
    }
   ],
   "source": [
    "wipe_output()\n",
    "search_start = time.time()\n",
    "\n",
    "# search loop\n",
    "for n in range(start_size,hypers['num_patterns']):\n",
    "    print(\"===\",n,\"===\")\n",
    "    print(model)rue\n",
    "    finish = False\n",
    "    comp_ratio = sizes.get(n,0)\n",
    "    aim = comp_ratio*.9 if comp_ratio>.35 else comp_ratio*.66\n",
    "    jn_print(\"=== {} Patterns. Target Comp: {:.2f}, Aim: {:.2f}\".format(n, comp_ratio,aim))\n",
    "\n",
    "    for tries in range(1,10):\n",
    "        # try initialization\n",
    "        epochs = (nas_schedule['learn_phase']*(tries==1))+nas_schedule['prune_phase']\n",
    "        comp_lambdas = {'transition': model.lr_scheduler.t+(nas_schedule['prune_phase']*(tries==1)),\n",
    "                        'lambdas': {k:v*tries for k,v in hypers['prune_rate'].items()}}\n",
    "        \n",
    "        #learn+prune\n",
    "        full_train(model, epochs, comp_lambdas=comp_lambdas, comp_ratio=aim, prune_interval=nas_schedule['prune_interval'])\n",
    "        clean(verbose=False)\n",
    "        hard_comp = model.genotype_compression()[1]\n",
    "        if hard_comp and hard_comp > sizes[n]:\n",
    "            jn_print(\"Try {}. Restarting pruning at pattern {}. Target comp: {:.2f}/{:.2f}, Actual: {:.3f}\".format(tries,n,comp_ratio,aim,hard_comp))\n",
    "        else:\n",
    "            finish = True\n",
    "            break\n",
    "\n",
    "    if finish:\n",
    "        if n != hypers['num_patterns']:\n",
    "            print(\"Adding next pattern:\",n+1)\n",
    "            model.add_pattern()\n",
    "    else: \n",
    "        print(\"No progress after 10 tries, aborting.\")\n",
    "        break\n",
    "\n",
    "clean(\"Search End\")\n",
    "print(\"Search Time:\",show_time(time.time()-search_start))\n",
    "print(model)"
   ]
  },
  {
   "cell_type": "markdown",
   "metadata": {},
   "source": [
    "# Train"
   ]
  },
  {
   "cell_type": "code",
   "execution_count": null,
   "metadata": {
    "scrolled": true
   },
   "outputs": [],
   "source": [
    "full_train(model, epochs=model.lr_scheduler.remaining);\n",
    "clean()"
   ]
  },
  {
   "cell_type": "markdown",
   "metadata": {
    "heading_collapsed": true
   },
   "source": [
    "# Random Search"
   ]
  },
  {
   "cell_type": "code",
   "execution_count": null,
   "metadata": {
    "hidden": true
   },
   "outputs": [],
   "source": [
    "e_c, i_c = .25, 1"
   ]
  },
  {
   "cell_type": "code",
   "execution_count": null,
   "metadata": {
    "hidden": true
   },
   "outputs": [],
   "source": [
    "data, dim =load_data(hypers['batch_size'], hypers['dataset'])\n",
    "model = Net(dim=dim, \n",
    "            classes=hypers['classes'], \n",
    "            scale=hypers['scale'],\n",
    "            num_patterns=hypers['num_patterns'],\n",
    "            patterns=hypers['patterns'],\n",
    "            nodes=hypers['nodes'],\n",
    "            random_ops={'e_c':e_c,'i_c':i_c}, \n",
    "            drop_prob=hypers['drop_prob'],\n",
    "            lr_schedule=hypers['lr_schedule'],\n",
    "            prune=False)\n",
    "model.data = data\n",
    "model.save_genotype()\n",
    "print(model)\n",
    "print(size_test(model, data))"
   ]
  },
  {
   "cell_type": "code",
   "execution_count": null,
   "metadata": {
    "hidden": true
   },
   "outputs": [],
   "source": [
    "full_train(model, hypers['lr_schedule']['T'])"
   ]
  },
  {
   "cell_type": "markdown",
   "metadata": {
    "heading_collapsed": true
   },
   "source": [
    "# Scratch"
   ]
  }
 ],
 "metadata": {
  "kernelspec": {
   "display_name": "Python 3",
   "language": "python",
   "name": "python3"
  },
  "language_info": {
   "codemirror_mode": {
    "name": "ipython",
    "version": 3
   },
   "file_extension": ".py",
   "mimetype": "text/x-python",
   "name": "python",
   "nbconvert_exporter": "python",
   "pygments_lexer": "ipython3",
   "version": "3.6.8"
  },
  "toc": {
   "base_numbering": 1,
   "nav_menu": {},
   "number_sections": true,
   "sideBar": true,
   "skip_h1_title": false,
   "title_cell": "Table of Contents",
   "title_sidebar": "Contents",
   "toc_cell": false,
   "toc_position": {},
   "toc_section_display": true,
   "toc_window_display": false
  }
 },
 "nbformat": 4,
 "nbformat_minor": 2
}
