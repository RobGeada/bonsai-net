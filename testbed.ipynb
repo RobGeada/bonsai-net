{
 "cells": [
  {
   "cell_type": "code",
   "execution_count": 2,
   "metadata": {},
   "outputs": [],
   "source": [
    "from bonsai.data_loaders import load_data\n",
    "from bonsai.net_vert import Net\n",
    "from bonsai.trainers import *\n",
    "from bonsai.helpers import *\n",
    "\n",
    "%load_ext autoreload\n",
    "%autoreload 2"
   ]
  },
  {
   "cell_type": "code",
   "execution_count": 108,
   "metadata": {},
   "outputs": [
    {
     "name": "stdout",
     "output_type": "stream",
     "text": [
      "66.0\n"
     ]
    },
    {
     "data": {
      "text/plain": [
       "[1.0, 1.0, 0.9090909090909091, 0.09090909090909091]"
      ]
     },
     "execution_count": 108,
     "metadata": {},
     "output_type": "execute_result"
    }
   ],
   "source": [
    "options = [0,0,12,120]\n",
    "goal = .5\n",
    "print(sum(options)*goal)\n",
    "weights = [(sum(options)-x)/sum(options) for x in options]\n",
    "weights"
   ]
  },
  {
   "cell_type": "code",
   "execution_count": 126,
   "metadata": {},
   "outputs": [
    {
     "data": {
      "text/plain": [
       "(66.046884, 60.29554578814709)"
      ]
     },
     "execution_count": 126,
     "metadata": {},
     "output_type": "execute_result"
    }
   ],
   "source": [
    "n=5\n",
    "sums=[]\n",
    "for i in range(n):\n",
    "    used,chosen = 0,[]\n",
    "    for option in options:\n",
    "        if np.random.rand()<goal:\n",
    "            chosen.append(option)\n",
    "            used+=option\n",
    "    #print(chosen)\n",
    "    sums.append(used)\n",
    "np.mean(sums),np.std(sums)"
   ]
  },
  {
   "cell_type": "code",
   "execution_count": null,
   "metadata": {},
   "outputs": [],
   "source": []
  },
  {
   "cell_type": "code",
   "execution_count": 3,
   "metadata": {},
   "outputs": [],
   "source": [
    "gpu_space = 8.2\n",
    "batch_size = 256*4\n",
    "hypers = {\n",
    "    'dataset':'CIFAR10',\n",
    "    'classes':10,\n",
    "    'scale':2,\n",
    "    'batch_size':batch_size,\n",
    "    'multiplier':1024//batch_size,\n",
    "    'num_patterns':1,\n",
    "    'patterns':[['r','r','ra']],\n",
    "    'nodes':4,\n",
    "    'half':False,\n",
    "    'lr_schedule':\n",
    "        {'lr_min': 0,\n",
    "         'lr_max': 1e-2,\n",
    "         't_0': 600,\n",
    "         't_mult': 1},\n",
    "    'epochs':600,\n",
    "    'drop_prob':.25,\n",
    "}\n",
    "schedule = {'cycle_len':4,\n",
    "            'transition_after':2,\n",
    "            'n_cycles':4}\n",
    "data, data_shape = load_data(hypers['batch_size'], hypers['dataset'])"
   ]
  },
  {
   "cell_type": "code",
   "execution_count": 20,
   "metadata": {
    "scrolled": false
   },
   "outputs": [
    {
     "name": "stdout",
     "output_type": "stream",
     "text": [
      "{'Identity': 0, 'Max_Pool_3x3': 0, 'Conv_1x1': 12, 'Sep_Conv_3x3': 120}\n",
      "{} 0\n",
      "{'Identity': 0, 'Max_Pool_3x3': 0, 'Conv_1x1': 12, 'Sep_Conv_3x3': 120}\n",
      "{} 0\n",
      "{'Identity': 0, 'Max_Pool_3x3': 0, 'Conv_1x1': 12, 'Sep_Conv_3x3': 120}\n",
      "{} 0\n",
      "{'Identity': 0, 'Max_Pool_3x3': 0, 'Conv_1x1': 12, 'Sep_Conv_3x3': 120}\n",
      "{} 0\n",
      "{'Identity': 0, 'Max_Pool_3x3': 0, 'Conv_1x1': 12, 'Sep_Conv_3x3': 120}\n",
      "{} 0\n",
      "{'Identity': 0, 'Max_Pool_3x3': 0, 'Conv_1x1': 12, 'Sep_Conv_3x3': 120}\n",
      "{} 0\n",
      "{'Identity': 0, 'Max_Pool_3x3': 0, 'Conv_1x1': 12, 'Sep_Conv_3x3': 120}\n",
      "{} 0\n",
      "{'Identity': 0, 'Max_Pool_3x3': 0, 'Conv_1x1': 12, 'Sep_Conv_3x3': 120}\n",
      "{} 0\n",
      "{'Identity': 0, 'Max_Pool_3x3': 0, 'Conv_1x1': 12, 'Sep_Conv_3x3': 120}\n",
      "{} 0\n",
      "{'Identity': 0, 'Max_Pool_3x3': 0, 'Conv_1x1': 12, 'Sep_Conv_3x3': 120}\n",
      "{} 0\n",
      "{'Identity': 0, 'Max_Pool_3x3': 0, 'Conv_1x1': 12, 'Sep_Conv_3x3': 120}\n",
      "{} 0\n",
      "{'Identity': 0, 'Max_Pool_3x3': 0, 'Conv_1x1': 12, 'Sep_Conv_3x3': 120}\n",
      "{} 0\n",
      "{'Identity': 0, 'Max_Pool_3x3': 0, 'Conv_1x1': 12, 'Sep_Conv_3x3': 120}\n",
      "{} 0\n",
      "{'Identity': 0, 'Max_Pool_3x3': 0, 'Conv_1x1': 12, 'Sep_Conv_3x3': 120}\n",
      "{} 0\n",
      "{'Identity': 0, 'Max_Pool_3x3': 0, 'Conv_1x1': 24, 'Sep_Conv_3x3': 304}\n",
      "{} 0\n",
      "{'Identity': 0, 'Max_Pool_3x3': 0, 'Conv_1x1': 24, 'Sep_Conv_3x3': 304}\n",
      "{} 0\n",
      "{'Identity': 0, 'Max_Pool_3x3': 0, 'Conv_1x1': 24, 'Sep_Conv_3x3': 304}\n",
      "{} 0\n",
      "{'Identity': 0, 'Max_Pool_3x3': 0, 'Conv_1x1': 24, 'Sep_Conv_3x3': 304}\n",
      "{} 0\n",
      "{'Identity': 0, 'Max_Pool_3x3': 0, 'Conv_1x1': 24, 'Sep_Conv_3x3': 304}\n",
      "{} 0\n",
      "{'Identity': 0, 'Max_Pool_3x3': 0, 'Conv_1x1': 24, 'Sep_Conv_3x3': 304}\n",
      "{} 0\n",
      "{'Identity': 0, 'Max_Pool_3x3': 0, 'Conv_1x1': 24, 'Sep_Conv_3x3': 304}\n",
      "{} 0\n",
      "{'Identity': 0, 'Max_Pool_3x3': 0, 'Conv_1x1': 24, 'Sep_Conv_3x3': 304}\n",
      "{} 0\n",
      "{'Identity': 0, 'Max_Pool_3x3': 0, 'Conv_1x1': 24, 'Sep_Conv_3x3': 304}\n",
      "{} 0\n",
      "{'Identity': 0, 'Max_Pool_3x3': 0, 'Conv_1x1': 24, 'Sep_Conv_3x3': 304}\n",
      "{} 0\n",
      "{'Identity': 0, 'Max_Pool_3x3': 0, 'Conv_1x1': 24, 'Sep_Conv_3x3': 304}\n",
      "{} 0\n",
      "{'Identity': 0, 'Max_Pool_3x3': 0, 'Conv_1x1': 24, 'Sep_Conv_3x3': 304}\n",
      "{} 0\n",
      "{'Identity': 0, 'Max_Pool_3x3': 0, 'Conv_1x1': 24, 'Sep_Conv_3x3': 304}\n",
      "{} 0\n",
      "{'Identity': 0, 'Max_Pool_3x3': 0, 'Conv_1x1': 24, 'Sep_Conv_3x3': 304}\n",
      "{} 0\n",
      "{'Identity': 0, 'Max_Pool_3x3': 0, 'Conv_1x1': 48, 'Sep_Conv_3x3': 864}\n",
      "{} 0\n",
      "{'Identity': 0, 'Max_Pool_3x3': 0, 'Conv_1x1': 48, 'Sep_Conv_3x3': 864}\n",
      "{} 0\n",
      "{'Identity': 0, 'Max_Pool_3x3': 0, 'Conv_1x1': 48, 'Sep_Conv_3x3': 864}\n",
      "{} 0\n",
      "{'Identity': 0, 'Max_Pool_3x3': 0, 'Conv_1x1': 48, 'Sep_Conv_3x3': 864}\n",
      "{} 0\n",
      "{'Identity': 0, 'Max_Pool_3x3': 0, 'Conv_1x1': 48, 'Sep_Conv_3x3': 864}\n",
      "{} 0\n",
      "{'Identity': 0, 'Max_Pool_3x3': 0, 'Conv_1x1': 48, 'Sep_Conv_3x3': 864}\n",
      "{} 0\n",
      "{'Identity': 0, 'Max_Pool_3x3': 0, 'Conv_1x1': 48, 'Sep_Conv_3x3': 864}\n",
      "{} 0\n",
      "{'Identity': 0, 'Max_Pool_3x3': 0, 'Conv_1x1': 48, 'Sep_Conv_3x3': 864}\n",
      "{} 0\n",
      "{'Identity': 0, 'Max_Pool_3x3': 0, 'Conv_1x1': 48, 'Sep_Conv_3x3': 864}\n",
      "{} 0\n",
      "{'Identity': 0, 'Max_Pool_3x3': 0, 'Conv_1x1': 48, 'Sep_Conv_3x3': 864}\n",
      "{} 0\n",
      "{'Identity': 0, 'Max_Pool_3x3': 0, 'Conv_1x1': 48, 'Sep_Conv_3x3': 864}\n",
      "{} 0\n",
      "{'Identity': 0, 'Max_Pool_3x3': 0, 'Conv_1x1': 48, 'Sep_Conv_3x3': 864}\n",
      "{} 0\n",
      "{'Identity': 0, 'Max_Pool_3x3': 0, 'Conv_1x1': 48, 'Sep_Conv_3x3': 864}\n",
      "{} 0\n",
      "{'Identity': 0, 'Max_Pool_3x3': 0, 'Conv_1x1': 48, 'Sep_Conv_3x3': 864}\n",
      "{} 0\n"
     ]
    },
    {
     "data": {
      "text/plain": [
       "(nan, 1.0)"
      ]
     },
     "execution_count": 20,
     "metadata": {},
     "output_type": "execute_result"
    }
   ],
   "source": [
    "model = Net(dim=data_shape, \n",
    "            classes=hypers['classes'], \n",
    "            scale=hypers['scale'],\n",
    "            patterns=hypers['patterns'], \n",
    "            num_patterns=1,\n",
    "            nodes=hypers['nodes'],\n",
    "            auxiliary=True,\n",
    "            random_ops={'e_c':.5,'i_c':1,'worst_case':True},\n",
    "            half=hypers['half'])\n",
    "model.genotype_compression()"
   ]
  },
  {
   "cell_type": "code",
   "execution_count": 5,
   "metadata": {},
   "outputs": [
    {
     "name": "stdout",
     "output_type": "stream",
     "text": [
      "=== Training Doge Finnish Marie ===\n",
      "Starting at 2019-10-25 14:01:14.368596\n",
      "10/25/2019 02:01 PM\n",
      "Init: 46.00MiB\n",
      "0: 3.33GiB\n",
      "1: 5.31GiB\n",
      "2: 5.96GiB\n",
      "GP: 5.96GiB\n",
      "Classifier: 5.96GiB\n",
      "Train Epoch: 0   [41552 /50000  (100%)]\tComp Ratio: [E: 0.361, I: 1.333], Loss Comp: [C: 2.482, E: 0.298, I: 0.33], Losses [0: 1.85]Per Epoch: 31.68s , Alloc: 5.99GiB  \n",
      "Train Corrects: Top-1: 29.14%, Comp: 0.36, 1.33 44.04s\n",
      "Train Loss Components: C: 2.482, E: 0.298, I: 0.33\n",
      "MGC: tensor(1., device='cuda:0')\n",
      "All Towers Test  Corrects: Top-1: 39.00%, 1.96s\n",
      "Last Tower Test  Corrects: Top-1: 39.00%, 1.96s\n",
      "\n",
      "\u001b[31mAdjusting lr to 0.01\u001b[0m\n",
      "10/25/2019 02:02 PM\n",
      "Train Epoch: 1   [41552 /50000  (100%)]\tComp Ratio: [E: 0.469, I: 1.333], Loss Comp: [C: 2.163, E: 0.114, I: 0.33], Losses [0: 1.72]Per Epoch: 32.69s , Alloc: 5.99GiB  \n",
      "Train Corrects: Top-1: 37.01%, Comp: 0.47, 1.33 44.82s\n",
      "Train Loss Components: C: 2.163, E: 0.114, I: 0.33\n",
      "MGC: tensor(1., device='cuda:0')\n",
      "All Towers Test  Corrects: Top-1: 42.69%, 1.99s\n",
      "Last Tower Test  Corrects: Top-1: 42.69%, 1.99s\n",
      "\n",
      "\u001b[31mAdjusting lr to 0.009975923633360985\u001b[0m\n",
      "10/25/2019 02:02 PM\n",
      "Train Epoch: 2   [41552 /50000  (100%)]\tComp Ratio: [E: 0.515, I: 1.333], Loss Comp: [C: 2.225, E: 0.136, I: 0.33], Losses [0: 1.76]Per Epoch: 32.26s , Alloc: 5.99GiB  \n",
      "Train Corrects: Top-1: 38.82%, Comp: 0.51, 1.33 44.74s\n",
      "Train Loss Components: C: 2.225, E: 0.136, I: 0.33\n",
      "MGC: tensor(1., device='cuda:0')\n",
      "All Towers Test  Corrects: Top-1: 44.52%, 1.94s\n",
      "Last Tower Test  Corrects: Top-1: 44.52%, 1.94s\n",
      "\n",
      "\u001b[31mAdjusting lr to 0.009903926402016152\u001b[0m\n",
      "10/25/2019 02:03 PM\n",
      "Train Epoch: 3   [41552 /50000  (100%)]\tComp Ratio: [E: 0.470, I: 1.333], Loss Comp: [C: 2.086, E: 0.054, I: 0.33], Losses [0: 1.7]Per Epoch: 31.61s , Alloc: 5.99GiB  \n",
      "Train Corrects: Top-1: 40.21%, Comp: 0.47, 1.33 44.82s\n",
      "Train Loss Components: C: 2.086, E: 0.054, I: 0.33\n",
      "\n",
      "Deadheaded 24 operations\n",
      "Param Delta: 30,772 -> 21,612\n",
      "MGC: tensor(0.5244, device='cuda:0')\n",
      "All Towers Test  Corrects: Top-1: 46.29%, 1.64s\n",
      "Last Tower Test  Corrects: Top-1: 46.29%, 1.64s\n",
      "\n",
      "\u001b[31mAdjusting lr to 0.009784701678661044\u001b[0m\n",
      "[1848, 4592, 12768, 39872]\n",
      "[1848, 4592, 12768, 39872, 137088]\n",
      "[1848, 4592, 12768, 39872, 137088, 503552]\n"
     ]
    }
   ],
   "source": [
    "full_train(\n",
    "    model,\n",
    "    data,\n",
    "    resume=False,\n",
    "    epochs=4,\n",
    "    drop_prob=hypers['drop_prob'],\n",
    "    comp_lambdas=TransitionDict({0: {'edge': 1, 'input': 1}}),\n",
    "    comp_ratio=.5,/\n",
    "    prune_interval=schedule['cycle_len'],\n",
    "    lr_schedule=schedule_generator(hypers['lr_schedule'])(32),\n",
    "    half=hypers['half']\n",
    ");\n",
    "model.add_pattern()"
   ]
  },
  {
   "cell_type": "code",
   "execution_count": 40,
   "metadata": {},
   "outputs": [
    {
     "name": "stdout",
     "output_type": "stream",
     "text": [
      "[1904, 4648, 12824]\n"
     ]
    }
   ],
   "source": [
    "print([sum([general_num_params(op) for k,edge in cell.edges.items() for op in edge.ops]) for cell in model.cells])"
   ]
  },
  {
   "cell_type": "code",
   "execution_count": null,
   "metadata": {},
   "outputs": [],
   "source": []
  }
 ],
 "metadata": {
  "kernelspec": {
   "display_name": "Python 3",
   "language": "python",
   "name": "python3"
  },
  "language_info": {
   "codemirror_mode": {
    "name": "ipython",
    "version": 3
   },
   "file_extension": ".py",
   "mimetype": "text/x-python",
   "name": "python",
   "nbconvert_exporter": "python",
   "pygments_lexer": "ipython3",
   "version": "3.6.8"
  },
  "toc": {
   "base_numbering": 1,
   "nav_menu": {},
   "number_sections": true,
   "sideBar": true,
   "skip_h1_title": false,
   "title_cell": "Table of Contents",
   "title_sidebar": "Contents",
   "toc_cell": false,
   "toc_position": {},
   "toc_section_display": true,
   "toc_window_display": false
  }
 },
 "nbformat": 4,
 "nbformat_minor": 2
}
