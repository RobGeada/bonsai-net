{
 "cells": [
  {
   "cell_type": "code",
   "execution_count": 1,
   "metadata": {},
   "outputs": [],
   "source": [
    "import pandas as pd\n",
    "import re\n",
    "import numpy as np\n",
    "import matplotlib.pyplot as plt\n",
    "import matplotlib.cm as cm\n",
    "from IPython.display import clear_output\n",
    "import os\n",
    "import time\n",
    "\n",
    "plt.style.use('material')"
   ]
  },
  {
   "cell_type": "markdown",
   "metadata": {},
   "source": [
    "# Read File"
   ]
  },
  {
   "cell_type": "code",
   "execution_count": 2,
   "metadata": {},
   "outputs": [],
   "source": [
    "def get_raw_runs():\n",
    "    with open(\"logs/trainer.log\") as f:\n",
    "        data = f.read()\n",
    "    runs = data.split('=== NEW FULL TRAIN ===')\n",
    "    return [run for run in runs if 'Starting at' in run]"
   ]
  },
  {
   "cell_type": "markdown",
   "metadata": {},
   "source": [
    "# Process"
   ]
  },
  {
   "cell_type": "code",
   "execution_count": 3,
   "metadata": {},
   "outputs": [],
   "source": [
    "def accuracy(raw_line,prefix,run_details):\n",
    "    top1 = \"{} Top-1\".format(prefix)\n",
    "    top3 = \"{} Top-3\".format(prefix)\n",
    "    \n",
    "    \n",
    "    if run_details.get(top1) is None:\n",
    "        run_details[top1]=[]\n",
    "    if 'Top-1' in raw_line:\n",
    "        run_details[top1].append(float(raw_line.split(':',2)[-1].split(\"%\")[0]))\n",
    "    if 'Top-3' in raw_line:\n",
    "        if trains.get(top3) is None:\n",
    "            run_details[top3]=[]\n",
    "        run_details[top3].append(float(raw_line.split(':',2)[-1].split(\"%\")[0]))\n",
    "    if 'Top' not in raw_line:\n",
    "        run_details[top1].append(float(raw_line.split(':',1)[-1].split(\"%\")[0]))\n",
    "    return run_details\n",
    "\n",
    "def proc_run(run):\n",
    "    run_details = {}\n",
    "    curr_epoch = -1\n",
    "    deadhead_history = []\n",
    "    param_history = []\n",
    "    a_loss, e_loss, i_loss = [],[],[]\n",
    "    \n",
    "    prev_line = \"\"\n",
    "    for raw_line in run.split(\"\\n\"):\n",
    "        if raw_line == prev_line:\n",
    "            prev_line = raw_line\n",
    "            continue\n",
    "            \n",
    "        # add new values to histories\n",
    "        if 'EPOCH' in raw_line:\n",
    "            deadhead_history.append(0)\n",
    "            param_history.append(0)\n",
    "        \n",
    "        # track model stats\n",
    "        if 'Starting at' in raw_line:\n",
    "            run_details['Start Time']=raw_line.split(\"Starting at\")[1]\n",
    "        if 'Dim' in raw_line:\n",
    "            if 'torch' in raw_line:\n",
    "                raw_line=raw_line.replace(\")\",\"\").replace(\"torch.Size(\",\"\")\n",
    "            detail_str = re.split(',(?=\\s[A-Za-z])',raw_line)\n",
    "            new_str = ''\n",
    "            for detail in detail_str:\n",
    "                k,v = detail.split(\":\")\n",
    "                new_str += \"'\"+k.strip()+\"':\"+v\n",
    "                if detail!=detail_str[-1]:\n",
    "                    new_str += \", \"\n",
    "            locals_ = locals()\n",
    "            if '<' in new_str and '>' in new_str:\n",
    "                new_str=new_str.split(\"<\")[0]+'None'+new_str.split(\">\")[-1]\n",
    "            exec('details={'+new_str+\"}\",None,locals_)\n",
    "            run_details.update(locals_['details'])\n",
    "        \n",
    "        # add accuracies\n",
    "        if 'Train Corrects:' in raw_line:\n",
    "            run_details = accuracy(raw_line,'Train',run_details)     \n",
    "        elif ('Last Towers Test' in raw_line and 'Corrects' in raw_line) or ('Test' in raw_line and 'Towers' not in raw_line and 'Corrects' in raw_line) or 'test acc' in raw_line:\n",
    "            run_details = accuracy(raw_line,'LT Test',run_details)\n",
    "        elif ('All Towers Test' in raw_line and 'Corrects' in raw_line):\n",
    "            run_details = accuracy(raw_line,'AT Test',run_details)\n",
    "        \n",
    "        # track deadheading\n",
    "        if 'Deadheaded' in raw_line:\n",
    "            deadhead_history[-1] = -int(raw_line.split('Deadheaded')[-1].split(\"operations\")[0])\n",
    "        if 'Param Delta' in raw_line:\n",
    "            param_history[-1] = [int(raw_line.split('Param Delta:')[-1].split(\"->\")[0].replace(\",\",\"\")),\n",
    "                                 int(raw_line.split('->')[-1].replace(\",\",\"\"))]\n",
    "        \n",
    "        # track loss_comps\n",
    "        if 'Train Loss Components' in raw_line:\n",
    "            loss_comps = raw_line.split(':')\n",
    "            a,e,i = [float(loss.split(\",\")[0]) for loss in loss_comps[2:]]\n",
    "            a_loss, e_loss, i_loss = a_loss+[a], e_loss+[e], i_loss+[i]\n",
    "        if raw_line != \"\":\n",
    "            prev_line = raw_line\n",
    "    run_details['Loss Accuracy']=a_loss\n",
    "    run_details['Loss Edge']=e_loss\n",
    "    run_details['Loss Input']=i_loss\n",
    "\n",
    "    # flatten param hist\n",
    "    if [x for x in param_history if type(x) is not int]:\n",
    "        prev_val = [hist[0] for hist in param_history if hist!=0][0]\n",
    "        new_param_hist = []\n",
    "        for val in param_history:\n",
    "            if val==0:\n",
    "                new_param_hist.append(prev_val)\n",
    "            else:\n",
    "                new_param_hist.append(val[1])\n",
    "                prev_val = val[1]\n",
    "        run_details['Params'] = new_param_hist  \n",
    "    run_details['Deadhead'] = deadhead_history\n",
    "    return run_details\n",
    "  \n",
    "def proc_all_runs():\n",
    "    runs = [proc_run(run) for run in get_raw_runs()]\n",
    "    runs = pd.DataFrame(runs)\n",
    "    for col in [col for col in list(runs) if 'Top' in col]:\n",
    "        runs[col] = runs[col].apply(lambda x: x if type(x)==list else [])\n",
    "    runs['LT Test Top-1 Max'] = runs['LT Test Top-1'].apply(lambda x: max(x, default=0))\n",
    "    runs['AT Test Top-1 Max'] = runs['AT Test Top-1'].apply(lambda x: max(x, default=0))\n",
    "    runs['Epoch']=runs['Train Top-1'].apply(len)\n",
    "    return runs\n",
    "\n",
    "df = proc_all_runs()"
   ]
  },
  {
   "cell_type": "code",
   "execution_count": null,
   "metadata": {},
   "outputs": [],
   "source": [
    "#df.iloc[-1]"
   ]
  },
  {
   "cell_type": "code",
   "execution_count": 25,
   "metadata": {},
   "outputs": [],
   "source": [
    "def cum_max(l):\n",
    "    return [max(l[:i+1]) for i in range(len(l))]\n",
    "\n",
    "def roll_ave(l):\n",
    "    n=10\n",
    "    return [np.mean(l[max(0,i-n):i+n+1]) for i in range(len(l))]"
   ]
  },
  {
   "cell_type": "markdown",
   "metadata": {},
   "source": [
    "# Visualize"
   ]
  },
  {
   "cell_type": "code",
   "execution_count": 29,
   "metadata": {
    "scrolled": false
   },
   "outputs": [
    {
     "ename": "ValueError",
     "evalue": "max() arg is an empty sequence",
     "output_type": "error",
     "traceback": [
      "\u001b[0;31m---------------------------------------------------------------------------\u001b[0m",
      "\u001b[0;31mValueError\u001b[0m                                Traceback (most recent call last)",
      "\u001b[0;32m<ipython-input-29-c2551cbc93aa>\u001b[0m in \u001b[0;36m<module>\u001b[0;34m\u001b[0m\n\u001b[1;32m     58\u001b[0m             \u001b[0mtime\u001b[0m\u001b[0;34m.\u001b[0m\u001b[0msleep\u001b[0m\u001b[0;34m(\u001b[0m\u001b[0;36m1\u001b[0m\u001b[0;34m)\u001b[0m\u001b[0;34m\u001b[0m\u001b[0;34m\u001b[0m\u001b[0m\n\u001b[1;32m     59\u001b[0m \u001b[0;34m\u001b[0m\u001b[0m\n\u001b[0;32m---> 60\u001b[0;31m \u001b[0mvisualize\u001b[0m\u001b[0;34m(\u001b[0m\u001b[0mcum_max\u001b[0m\u001b[0;34m)\u001b[0m\u001b[0;34m\u001b[0m\u001b[0;34m\u001b[0m\u001b[0m\n\u001b[0m",
      "\u001b[0;32m<ipython-input-29-c2551cbc93aa>\u001b[0m in \u001b[0;36mvisualize\u001b[0;34m(smooth_f, compare_id)\u001b[0m\n\u001b[1;32m     54\u001b[0m             \u001b[0;32mbreak\u001b[0m\u001b[0;34m\u001b[0m\u001b[0;34m\u001b[0m\u001b[0m\n\u001b[1;32m     55\u001b[0m         \u001b[0;32mexcept\u001b[0m \u001b[0mException\u001b[0m \u001b[0;32mas\u001b[0m \u001b[0me\u001b[0m\u001b[0;34m:\u001b[0m\u001b[0;34m\u001b[0m\u001b[0;34m\u001b[0m\u001b[0m\n\u001b[0;32m---> 56\u001b[0;31m             \u001b[0;32mraise\u001b[0m \u001b[0me\u001b[0m\u001b[0;34m\u001b[0m\u001b[0;34m\u001b[0m\u001b[0m\n\u001b[0m\u001b[1;32m     57\u001b[0m         \u001b[0;32mwhile\u001b[0m \u001b[0mfile_mod\u001b[0m \u001b[0;34m==\u001b[0m \u001b[0mos\u001b[0m\u001b[0;34m.\u001b[0m\u001b[0mstat\u001b[0m\u001b[0;34m(\u001b[0m\u001b[0;34m'logs/trainer.log'\u001b[0m\u001b[0;34m)\u001b[0m\u001b[0;34m.\u001b[0m\u001b[0mst_mtime\u001b[0m \u001b[0;32mor\u001b[0m \u001b[0;34m(\u001b[0m\u001b[0;34m'EPOCH'\u001b[0m \u001b[0;32mnot\u001b[0m \u001b[0;32min\u001b[0m \u001b[0mopen\u001b[0m\u001b[0;34m(\u001b[0m\u001b[0;34m'logs/trainer.log'\u001b[0m\u001b[0;34m,\u001b[0m\u001b[0;34m\"r\"\u001b[0m\u001b[0;34m)\u001b[0m\u001b[0;34m.\u001b[0m\u001b[0mreadlines\u001b[0m\u001b[0;34m(\u001b[0m\u001b[0;34m)\u001b[0m\u001b[0;34m[\u001b[0m\u001b[0;34m-\u001b[0m\u001b[0;36m1\u001b[0m\u001b[0;34m]\u001b[0m\u001b[0;34m)\u001b[0m\u001b[0;34m:\u001b[0m\u001b[0;34m\u001b[0m\u001b[0;34m\u001b[0m\u001b[0m\n\u001b[1;32m     58\u001b[0m             \u001b[0mtime\u001b[0m\u001b[0;34m.\u001b[0m\u001b[0msleep\u001b[0m\u001b[0;34m(\u001b[0m\u001b[0;36m1\u001b[0m\u001b[0;34m)\u001b[0m\u001b[0;34m\u001b[0m\u001b[0;34m\u001b[0m\u001b[0m\n",
      "\u001b[0;32m<ipython-input-29-c2551cbc93aa>\u001b[0m in \u001b[0;36mvisualize\u001b[0;34m(smooth_f, compare_id)\u001b[0m\n\u001b[1;32m     17\u001b[0m             \u001b[0mfull_runs\u001b[0m \u001b[0;34m=\u001b[0m \u001b[0mfull_runs\u001b[0m\u001b[0;34m[\u001b[0m\u001b[0;34m'LT Test Top-1'\u001b[0m\u001b[0;34m]\u001b[0m\u001b[0;34m.\u001b[0m\u001b[0mvalues\u001b[0m\u001b[0;34m\u001b[0m\u001b[0;34m\u001b[0m\u001b[0m\n\u001b[1;32m     18\u001b[0m \u001b[0;34m\u001b[0m\u001b[0m\n\u001b[0;32m---> 19\u001b[0;31m             \u001b[0mat\u001b[0m\u001b[0;34m,\u001b[0m\u001b[0mlt\u001b[0m \u001b[0;34m=\u001b[0m \u001b[0mmax\u001b[0m\u001b[0;34m(\u001b[0m\u001b[0mruns\u001b[0m\u001b[0;34m.\u001b[0m\u001b[0miloc\u001b[0m\u001b[0;34m[\u001b[0m\u001b[0;34m-\u001b[0m\u001b[0;36m1\u001b[0m\u001b[0;34m]\u001b[0m\u001b[0;34m[\u001b[0m\u001b[0;34m'AT Test Top-1'\u001b[0m\u001b[0;34m]\u001b[0m\u001b[0;34m)\u001b[0m\u001b[0;34m,\u001b[0m\u001b[0mmax\u001b[0m\u001b[0;34m(\u001b[0m\u001b[0mruns\u001b[0m\u001b[0;34m.\u001b[0m\u001b[0miloc\u001b[0m\u001b[0;34m[\u001b[0m\u001b[0;34m-\u001b[0m\u001b[0;36m1\u001b[0m\u001b[0;34m]\u001b[0m\u001b[0;34m[\u001b[0m\u001b[0;34m'LT Test Top-1'\u001b[0m\u001b[0;34m]\u001b[0m\u001b[0;34m)\u001b[0m\u001b[0;34m\u001b[0m\u001b[0;34m\u001b[0m\u001b[0m\n\u001b[0m\u001b[1;32m     20\u001b[0m             \u001b[0mat_last\u001b[0m\u001b[0;34m,\u001b[0m\u001b[0mlt_last\u001b[0m\u001b[0;34m=\u001b[0m \u001b[0mruns\u001b[0m\u001b[0;34m.\u001b[0m\u001b[0miloc\u001b[0m\u001b[0;34m[\u001b[0m\u001b[0;34m-\u001b[0m\u001b[0;36m1\u001b[0m\u001b[0;34m]\u001b[0m\u001b[0;34m[\u001b[0m\u001b[0;34m'AT Test Top-1'\u001b[0m\u001b[0;34m]\u001b[0m\u001b[0;34m[\u001b[0m\u001b[0;34m-\u001b[0m\u001b[0;36m1\u001b[0m\u001b[0;34m]\u001b[0m\u001b[0;34m,\u001b[0m\u001b[0mruns\u001b[0m\u001b[0;34m.\u001b[0m\u001b[0miloc\u001b[0m\u001b[0;34m[\u001b[0m\u001b[0;34m-\u001b[0m\u001b[0;36m1\u001b[0m\u001b[0;34m]\u001b[0m\u001b[0;34m[\u001b[0m\u001b[0;34m'LT Test Top-1'\u001b[0m\u001b[0;34m]\u001b[0m\u001b[0;34m[\u001b[0m\u001b[0;34m-\u001b[0m\u001b[0;36m1\u001b[0m\u001b[0;34m]\u001b[0m\u001b[0;34m\u001b[0m\u001b[0;34m\u001b[0m\u001b[0m\n\u001b[1;32m     21\u001b[0m             \u001b[0;32mif\u001b[0m \u001b[0mlt\u001b[0m\u001b[0;34m>\u001b[0m\u001b[0mat\u001b[0m\u001b[0;34m:\u001b[0m\u001b[0;34m\u001b[0m\u001b[0;34m\u001b[0m\u001b[0m\n",
      "\u001b[0;31mValueError\u001b[0m: max() arg is an empty sequence"
     ]
    },
    {
     "data": {
      "text/plain": [
       "<Figure size 2100x2100 with 0 Axes>"
      ]
     },
     "metadata": {},
     "output_type": "display_data"
    }
   ],
   "source": [
    "def visualize(smooth_f,compare_id=None):\n",
    "    while 1:\n",
    "        file_mod = os.stat('logs/trainer.log').st_mtime\n",
    "        clear_output()\n",
    "        runs = proc_all_runs()\n",
    "\n",
    "        try:\n",
    "            plt.figure(figsize=(14,14),dpi=150)\n",
    "            full_runs = runs[runs['LT Test Top-1'].apply(lambda x: len(x)>512)].sort_values(by='LT Test Top-1 Max',ascending=False)\n",
    "\n",
    "            if compare_id:\n",
    "                compare_str = compare_id\n",
    "                compare = full_runs[full_runs['ID']==compare_id]['LT Test Top-1'].values[0]\n",
    "            else:\n",
    "                compare = full_runs['LT Test Top-1'].values[0]\n",
    "                compare_str = 'PR'\n",
    "            full_runs = full_runs['LT Test Top-1'].values\n",
    "            \n",
    "            at,lt = max(runs.iloc[-1]['AT Test Top-1']),max(runs.iloc[-1]['LT Test Top-1'])\n",
    "            at_last,lt_last= runs.iloc[-1]['AT Test Top-1'][-1],runs.iloc[-1]['LT Test Top-1'][-1]\n",
    "            if lt>at:\n",
    "                curr_run = runs.iloc[-1]['LT Test Top-1']\n",
    "                agg_type = \"Last Tower\"\n",
    "            else:\n",
    "                curr_run = runs.iloc[-1]['AT Test Top-1']\n",
    "                agg_type = \"All Towers\"\n",
    "            cm = plt.cm.Spectral\n",
    "            for i,run in enumerate(full_runs):\n",
    "                plt.plot(smooth_f(run),color=cm(i/len(full_runs)),alpha=.75 if i==0 else .5)\n",
    "\n",
    "            epoch = len(curr_run)-1\n",
    "            if epoch<0:\n",
    "                print(\"No log yet...\")\n",
    "            else:\n",
    "                curr,curr_max,curr_arg_max = curr_run[epoch],max(curr_run),np.argmax(curr_run)\n",
    "                rec, rec_max, rec_arg_max = compare[epoch], max(compare[:epoch+1]),np.argmax(compare[:epoch+1])\n",
    "                print(\"==== EPOCH {} ======================================\".format(epoch))\n",
    "                print(\"AT Max: {} LT Max: {}\".format(at,lt))\n",
    "                print(\"AT Last: {} LT Last: {}\".format(at_last,lt_last))\n",
    "                print(\"Current Delta to {}:     {:> 2.2f}% ({}% vs {}%)\".format(compare_str,curr-rec,curr,rec))\n",
    "                print(\"Current Delta to {} Max: {:> 2.2f}% ({}% @{} vs {}% @{})\".format(compare_str,curr_max-rec_max,curr_max,curr_arg_max,rec_max,rec_arg_max))\n",
    "\n",
    "                plt.plot(smooth_f(curr_run),color='k',linewidth=2)\n",
    "                plt.plot(curr_run,color='k',alpha=.25,linewidth=1)\n",
    "                plt.ylim(min(curr_run[-10:]),100)\n",
    "\n",
    "                plt.title(\"CIFAR-10 Loss History, Bonsai Net\")\n",
    "                plt.xlabel(\"Epoch\",fontsize=14)\n",
    "                plt.xticks(fontsize=14)\n",
    "                plt.ylabel(\"Accuracy\",fontsize=14)\n",
    "                plt.yticks(fontsize=14)\n",
    "                plt.show()\n",
    "        except KeyboardInterrupt:\n",
    "            break\n",
    "        except Exception as e: \n",
    "            raise e\n",
    "        while file_mod == os.stat('logs/trainer.log').st_mtime or ('EPOCH' not in open('logs/trainer.log',\"r\").readlines()[-1]):\n",
    "            time.sleep(1)\n",
    "        \n",
    "visualize(cum_max)"
   ]
  },
  {
   "cell_type": "code",
   "execution_count": null,
   "metadata": {},
   "outputs": [],
   "source": []
  }
 ],
 "metadata": {
  "kernelspec": {
   "display_name": "Python 3",
   "language": "python",
   "name": "python3"
  },
  "language_info": {
   "codemirror_mode": {
    "name": "ipython",
    "version": 3
   },
   "file_extension": ".py",
   "mimetype": "text/x-python",
   "name": "python",
   "nbconvert_exporter": "python",
   "pygments_lexer": "ipython3",
   "version": "3.6.8"
  },
  "toc": {
   "base_numbering": 1,
   "nav_menu": {},
   "number_sections": true,
   "sideBar": true,
   "skip_h1_title": false,
   "title_cell": "Table of Contents",
   "title_sidebar": "Contents",
   "toc_cell": false,
   "toc_position": {},
   "toc_section_display": true,
   "toc_window_display": false
  }
 },
 "nbformat": 4,
 "nbformat_minor": 2
}
