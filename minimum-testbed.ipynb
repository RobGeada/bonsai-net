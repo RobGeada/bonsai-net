{
 "cells": [
  {
   "cell_type": "code",
   "execution_count": 1,
   "metadata": {},
   "outputs": [],
   "source": [
    "from bonsai.data_loaders import load_data\n",
    "from bonsai.net_vert import Net\n",
    "from bonsai.trainers import *\n",
    "\n",
    "%load_ext autoreload\n",
    "%autoreload 2"
   ]
  },
  {
   "cell_type": "code",
   "execution_count": 2,
   "metadata": {},
   "outputs": [],
   "source": [
    "dataset = 'CIFAR10'\n",
    "classes = 10\n",
    "gpu_space = 8.2\n",
    "hypers = {\n",
    "    'scale':7,\n",
    "    'batch_size':16,\n",
    "    'reductions':{'init':1,'final':5},\n",
    "    'spacing':3,\n",
    "    'nodes':4,\n",
    "    'lr_schedule':\n",
    "        {'lr_min': 0,\n",
    "         'lr_max': 1e-3,\n",
    "         't_0': 600,\n",
    "         't_mult': 1},\n",
    "    'epochs':600,\n",
    "    'drop_prob':.25,\n",
    "}\n",
    "schedule = {'cycle_len':4,\n",
    "            'transition_after':2,\n",
    "            'n_cycles':4}\n",
    "start_size=1"
   ]
  },
  {
   "cell_type": "code",
   "execution_count": 3,
   "metadata": {},
   "outputs": [
    {
     "name": "stdout",
     "output_type": "stream",
     "text": [
      "Edges per cell: 24.0\n",
      "===================== NETWORK =====================\n",
      "              Saul McFadden Carpathia              \n",
      "Initializer         :                    640 params\n",
      "Cell 0  (Normal)    : 128 x 32 ,     508,729 params\n",
      "Cell 1  (Normal)    : 128 x 32 ,     508,730 params\n",
      "Cell 2  (Reduction) : 256 x 16 ,   2,000,955 params\n",
      " ↳ Classifier       :                655,370 params\n",
      "===================================================\n",
      "Total               :              3,674,424 params\n",
      "===================================================\n",
      "\n"
     ]
    }
   ],
   "source": [
    "data, data_shape = load_data(hypers['batch_size'], dataset)\n",
    "print(\"Edges per cell:\",cell_cnx(hypers['nodes']))\n",
    "\n",
    "# init model\n",
    "model = Net(dim=data_shape, \n",
    "            classes=classes, \n",
    "            scale=hypers['scale'],\n",
    "            reductions=start_size,\n",
    "            spacing=hypers['spacing'],\n",
    "            nodes=hypers['nodes'],\n",
    "            prune=True,\n",
    "            auxiliary=True)\n",
    "\n",
    "size, overflow = size_test(model, data)\n",
    "print(model)\n",
    "init_or_finish=True"
   ]
  },
  {
   "cell_type": "code",
   "execution_count": null,
   "metadata": {},
   "outputs": [
    {
     "name": "stdout",
     "output_type": "stream",
     "text": [
      "=== Training Saul McFadden Carpathia ===\n",
      "Starting at 2019-09-10 19:30:50.951115\n",
      "0: 34.00MiB\n",
      "1: 2.04GiB\n",
      "2: 3.90GiB\n",
      "Train Epoch: 0   [49136 /50000  (98%)]\tLoss: 0.210, Losses [0: 1.68]Per Epoch: 12m,23s, Alloc: 4.08GiB  \r"
     ]
    }
   ],
   "source": [
    "tries=1\n",
    "transition = schedule['cycle_len']*schedule['transition_after']\n",
    "comp_lambdas = TransitionDict(\n",
    "    {0: None, transition: {'edge': .33*tries, 'input': .1*tries}}\n",
    ")\n",
    "lr_schedule = {'lr_min': hypers['lr_schedule']['lr_min'],\n",
    "               'lr_max': hypers['lr_schedule']['lr_max']/10,\n",
    "               't_0': schedule['cycle_len']*schedule['n_cycles'],\n",
    "               't_mult': 1}   \n",
    "epochs=1\n",
    "comp_ratio = .8\n",
    "init_or_finish = full_train(\n",
    "                model, data,\n",
    "                lr_schedule=lr_schedule,\n",
    "                epochs=epochs,\n",
    "                drop_prob=hypers['drop_prob'],\n",
    "                half=False,\n",
    "\n",
    "            );"
   ]
  },
  {
   "cell_type": "code",
   "execution_count": null,
   "metadata": {},
   "outputs": [],
   "source": []
  }
 ],
 "metadata": {
  "kernelspec": {
   "display_name": "Python 3",
   "language": "python",
   "name": "python3"
  },
  "language_info": {
   "codemirror_mode": {
    "name": "ipython",
    "version": 3
   },
   "file_extension": ".py",
   "mimetype": "text/x-python",
   "name": "python",
   "nbconvert_exporter": "python",
   "pygments_lexer": "ipython3",
   "version": "3.6.8"
  },
  "toc": {
   "base_numbering": 1,
   "nav_menu": {},
   "number_sections": true,
   "sideBar": true,
   "skip_h1_title": false,
   "title_cell": "Table of Contents",
   "title_sidebar": "Contents",
   "toc_cell": false,
   "toc_position": {},
   "toc_section_display": true,
   "toc_window_display": false
  }
 },
 "nbformat": 4,
 "nbformat_minor": 2
}
