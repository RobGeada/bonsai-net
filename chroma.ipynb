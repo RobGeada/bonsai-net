{
 "cells": [
  {
   "cell_type": "code",
   "execution_count": 1,
   "metadata": {},
   "outputs": [],
   "source": [
    "from datetime import datetime\n",
    "from IPython.display import display, clear_output\n",
    "#import graphviz \n",
    "import matplotlib.pyplot as plt\n",
    "from matplotlib import cm\n",
    "from matplotlib import gridspec\n",
    "from matplotlib.ticker import MaxNLocator\n",
    "import numpy as np\n",
    "import os\n",
    "import pandas as pd\n",
    "import pickle as pkl\n",
    "import textwrap\n",
    "import time\n",
    "\n",
    "#from bonsai_bp.helpers import commons\n",
    "\n",
    "plt.style.use('material')\n",
    "\n",
    "rgba = 50\n",
    "hexa = str(hex(rgba))[2:]\n",
    "colors = {\n",
    "    'Identity':     {'pos':0,'hex':'#ff000000','hexa':'#ff0000'+hexa,'rgb':(255,0,0,255),   'rgba':[255,0,0]+[rgba]}, \n",
    "    'Max_Pool_3x3': {'pos':1,'hex':'#0000ff00','hexa':'#0000ff'+hexa,'rgb':(0,0,255,255),   'rgba':[0,0,255]+[rgba]}, \n",
    "    'Conv_1x1':     {'pos':2,'hex':'#ffc00000','hexa':'#ffc000'+hexa,'rgb':(255,192,0,255), 'rgba':[255,192,0]+[rgba]}, \n",
    "    'Sep_Conv_3x3': {'pos':3,'hex':'#96169600','hexa':'#961696'+hexa,'rgb':(150,22,150,255),'rgba':[150,22,150]+[rgba]},\n",
    "    'Zero':         {'pos':4,'hex':'#ffffff00','hexa':'#ffffff'+hexa,'rgb':(255,255,255,255),'rgba':[255,255,255]+[rgba]}\n",
    "}"
   ]
  },
  {
   "cell_type": "code",
   "execution_count": 2,
   "metadata": {},
   "outputs": [],
   "source": [
    "def node_remap(node):\n",
    "    if node=='x':\n",
    "        return 0\n",
    "    elif node=='y':\n",
    "        return 1\n",
    "    else:\n",
    "        return int(node)+2"
   ]
  },
  {
   "cell_type": "markdown",
   "metadata": {},
   "source": [
    "# Process Genotype"
   ]
  },
  {
   "cell_type": "code",
   "execution_count": 138,
   "metadata": {},
   "outputs": [],
   "source": [
    "g_viz = False\n",
    "\n",
    "def process(name):\n",
    "    params, genotype = pkl.load(open('genotypes/{}_np.pkl'.format(name),\"rb\"))\n",
    "    cell_types = []\n",
    "\n",
    "    op_counts = []\n",
    "    if g_viz:\n",
    "        p = graphviz.Digraph(name='parent')\n",
    "        p.attr('node',shape='circle',size='1,2')\n",
    "        p.edge('input','0_x')\n",
    "        p.edge('input','0_y')\n",
    "        p.edge('input','1_y')\n",
    "    n = params['nodes']+2\n",
    "\n",
    "    cells = []\n",
    "    cell_types = {k:v for k,v in enumerate([(cell,i,j) for i,pattern in enumerate(params['patterns']) for j,cell in enumerate(pattern)])}\n",
    "                  \n",
    "    for i,(cell_name, cell_genotype) in enumerate(genotype.items()):\n",
    "        cell_type = cell_types[cell_name][0].upper()\n",
    "        op_count = {k:0 for k in colors.keys()}\n",
    "        if cell_genotype['Y'].get('weights'):\n",
    "            ys = [x.item() for x in cell_genotype['Y']['weights']]\n",
    "        else:\n",
    "            ys = [-1 if x else 1  for x  in cell_genotype['Y']['zeros']]\n",
    "        cell = {'name':'Cell {} ({})'.format(i,cell_type),\n",
    "                'pos':cell_types[cell_name][1:],\n",
    "                'X':i-1 if i else 'In',\n",
    "                'Y':[i-1 if i else 'In' for i,val in enumerate(ys) if val>0]}\n",
    "        if g_viz:\n",
    "            g = graphviz.Digraph()\n",
    "            g.attr(label='{} ({})'.format(cell_name,cell_types[i]))\n",
    "            g.attr('node',shape='circle')\n",
    "        for key,val in cell_genotype.items():\n",
    "            for v in val:\n",
    "                if type(v) is not str:\n",
    "                    weight = v[1] if type(v[1]) is int else v[1].item()\n",
    "                    if key is not 'X' and key is not 'Y':\n",
    "                        origin_node,target_node = key.split(\"->\")\n",
    "                        origin = '{}_{}'.format(cell_name,origin_node)\n",
    "                        target = '{}_{}'.format(cell_name,target_node)\n",
    "\n",
    "                        o,t = node_remap(origin_node),node_remap(target_node)\n",
    "                        if cell.get(o) is None:\n",
    "                            cell[o] = {}\n",
    "                        if cell[o].get(t) is None:\n",
    "                            cell[o][t]=[None]*len(colors.keys())\n",
    "\n",
    "                        if cell_type=='R' and o<=1 and v[0]=='Identity':\n",
    "                            op = 'Max_Pool_3x3' \n",
    "                            op_pos = colors['Identity']['pos']\n",
    "                        else:\n",
    "                            op = v[0]\n",
    "                            op_pos = colors[op]['pos']\n",
    "                        if weight>0:\n",
    "                            cell[o][t][op_pos]=colors[op]['rgb']\n",
    "                            if g_viz:\n",
    "                                g.edge(origin, target, color=colors[op]['hex'])\n",
    "                        elif weight<=0:\n",
    "                            cell[o][t][op_pos]=colors[op]['rgba']\n",
    "                            if g_viz:\n",
    "                                g.edge(origin, target, color=colors[op]['hexa'])    \n",
    "\n",
    "                        op_count[op]+=1\n",
    "        cells.append(cell)\n",
    "        if g_viz:\n",
    "            p.subgraph(g)\n",
    "            if i<len(genotype.items())-1:\n",
    "                p.edge(target,'{}_x'.format(cell_name+1,cell_types[i+1]))\n",
    "                p.edge(target,'{}_y'.format(cell_name+2,cell_types[i+1])) \n",
    "        op_count['cell_type']=cell_type\n",
    "        op_counts.append(op_count)\n",
    "    #p.view()\n",
    "    op_counts = pd.DataFrame(op_counts)\n",
    "    return params, op_counts,cells,n"
   ]
  },
  {
   "cell_type": "markdown",
   "metadata": {},
   "source": [
    "# Cell Visualization"
   ]
  },
  {
   "cell_type": "markdown",
   "metadata": {},
   "source": [
    "## Code"
   ]
  },
  {
   "cell_type": "code",
   "execution_count": 140,
   "metadata": {},
   "outputs": [],
   "source": [
    "def plot_pixel(pixel,size):\n",
    "    out = np.zeros([size,size,4])\n",
    "    for i in range(size):\n",
    "        for j in range(size):\n",
    "            if i<size//2 and j<size//2 and pixel[0] is not None:\n",
    "                out[i,j]=pixel[0]\n",
    "            elif i>=size//2 and j<size//2 and pixel[1] is not None:\n",
    "                out[i,j]=pixel[1]\n",
    "            elif i<size//2 and j>=size//2 and pixel[2] is not None:\n",
    "                out[i,j]=pixel[2]\n",
    "            elif i>=size//2 and j>=size//2 and pixel[3] is not None:\n",
    "                out[i,j]=pixel[3]\n",
    "    return out"
   ]
  },
  {
   "cell_type": "code",
   "execution_count": 141,
   "metadata": {},
   "outputs": [],
   "source": [
    "def plot_cell(cell, n, ax):\n",
    "    size = 12\n",
    "    out = np.zeros((n*size,n*size,4),dtype=int)\n",
    "    ax.axis('off')\n",
    "    if cell is not None:\n",
    "        ax.axis('on')\n",
    "        for i in range(out.shape[0]):\n",
    "            for j in range(out.shape[1]):\n",
    "                out[i,j]=(255,255,255,255)\n",
    "        for i,v in cell.items():\n",
    "            if i not in ['name','pos','X','Y']:\n",
    "                for j in v.keys():\n",
    "                    if j>i and not (i==0 and j==1):\n",
    "                        out[(i*size):(i*size+size),(j*size):(j*size+size)]=plot_pixel(cell[i][j],size)       \n",
    "                        \n",
    "    im = ax.imshow(out);\n",
    "    fontsize = 12\n",
    "    if cell is not None:\n",
    "        x_str = str(cell['X']).replace(\"'\",\"\").replace(\"[\",'').replace(\"]\",'')\n",
    "        y_str = str(cell['Y']).replace(\"'\",\"\").replace(\"[\",'').replace(\"]\",'')\n",
    "        text_str = \"X: {}\\n\\nY: {}\".format(textwrap.fill(x_str,20),textwrap.fill(y_str,20))\n",
    "        ax.text(0.05, 0.95, text_str, fontsize=fontsize, color='k',verticalalignment='top')\n",
    "        ax.set_title(cell['name'],fontsize=fontsize*1.2)\n",
    "    \n",
    "    # Major ticks\n",
    "    ax.set_xticks(np.arange(size/2-.5, n*size, size));\n",
    "    ax.set_yticks(np.arange(size/2-.5, n*size, size));\n",
    "\n",
    "    # Labels for major ticks\n",
    "    ax.set_xticklabels(np.arange(0, n, 1), fontsize=fontsize);\n",
    "    ax.set_yticklabels(np.arange(0, n, 1), fontsize=fontsize);\n",
    "\n",
    "    # Minor ticks\n",
    "    ax.set_xticks(np.arange(-.5, n*size, size), minor=True);\n",
    "    ax.set_yticks(np.arange(-.5, n*size, size), minor=True);\n",
    "\n",
    "    # Gridlines based on minor ticks\\\n",
    "    ax.grid(which='major', b=False)\n",
    "    ax.grid(which='minor', color='w', linestyle='-', linewidth=2)"
   ]
  },
  {
   "cell_type": "markdown",
   "metadata": {},
   "source": [
    "## Vis"
   ]
  },
  {
   "cell_type": "code",
   "execution_count": null,
   "metadata": {},
   "outputs": [
    {
     "name": "stdout",
     "output_type": "stream",
     "text": [
      "Updated at 12/05/2019, 15:50:37\n"
     ]
    },
    {
     "data": {
      "image/png": "[encoded data removed]",
      "text/plain": [
       "<Figure size 1600x900 with 8 Axes>"
      ]
     },
     "metadata": {
      "needs_background": "dark"
     },
     "output_type": "display_data"
    }
   ],
   "source": [
    "# path = os.getcwd()+\"/genotypes\"\n",
    "target = max([(file,os.stat(path+\"/\"+file).st_mtime) for file in os.listdir(path)],key=lambda x: x[1])[0]\n",
    "target = target.replace(\"_np.pkl\",\"\").replace(\".pkl\",\"\")\n",
    "\n",
    "while 1:\n",
    "    file_mod = os.stat('genotypes/{}.pkl'.format(target)).st_mtime\n",
    "    clear_output()\n",
    "    try:\n",
    "        print(\"Updated at\",datetime.now().strftime(\"%m/%d/%Y, %H:%M:%S\"))\n",
    "        params, op_counts, cells, n = process(target) \n",
    "        dim = max([cell['pos'][0] for cell in cells]),max([cell['pos'][1] for cell in cells])\n",
    "        offset = [dim[0]-cell['pos'][0] for cell in cells]\n",
    "        size = 5\n",
    "        fig, axes = plt.subplots(dim[0]+1,\n",
    "                                 dim[1]+1,\n",
    "                                 figsize=(16,9),\n",
    "                                 dpi=100)\n",
    "        for a in [col for row in axes for col in row]:\n",
    "            plot_cell(None,n,a)\n",
    "        for i,cell in enumerate(cells):\n",
    "            plot_cell(cell,n,axes[cell['pos'][0],offset[i]+cell['pos'][1]])\n",
    "        plt.tight_layout()\n",
    "        plt.show()\n",
    "    except (EOFError, pkl.UnpicklingError) as e:\n",
    "        time.sleep(1)\n",
    "        continue\n",
    "    except Exception as e:\n",
    "        raise e\n",
    "    while file_mod == os.stat('genotypes/{}.pkl'.format(target)).st_mtime:\n",
    "        time.sleep(1)"
   ]
  },
  {
   "cell_type": "code",
   "execution_count": null,
   "metadata": {},
   "outputs": [],
   "source": []
  }
 ],
 "metadata": {
  "kernelspec": {
   "display_name": "Python 3",
   "language": "python",
   "name": "python3"
  },
  "language_info": {
   "codemirror_mode": {
    "name": "ipython",
    "version": 3
   },
   "file_extension": ".py",
   "mimetype": "text/x-python",
   "name": "python",
   "nbconvert_exporter": "python",
   "pygments_lexer": "ipython3",
   "version": "3.6.8"
  },
  "toc": {
   "base_numbering": 1,
   "nav_menu": {},
   "number_sections": true,
   "sideBar": true,
   "skip_h1_title": false,
   "title_cell": "Table of Contents",
   "title_sidebar": "Contents",
   "toc_cell": false,
   "toc_position": {},
   "toc_section_display": true,
   "toc_window_display": false
  }
 },
 "nbformat": 4,
 "nbformat_minor": 2
}
